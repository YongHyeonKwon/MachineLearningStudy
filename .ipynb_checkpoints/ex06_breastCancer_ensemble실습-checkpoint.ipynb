{
 "cells": [
  {
   "cell_type": "markdown",
   "id": "3e834b23",
   "metadata": {},
   "source": [
    "### 목표 \n",
    "  - sklearn의 datasets에서 유방암 데이터를 불러와서 악성, 양성 판단하는 양상블 모델을 만들어 보자 "
   ]
  },
  {
   "cell_type": "code",
   "execution_count": 20,
   "id": "18987da6",
   "metadata": {},
   "outputs": [],
   "source": [
    "# ex06_breastCancer_ensemble실습"
   ]
  },
  {
   "cell_type": "markdown",
   "id": "bbbc40d1",
   "metadata": {},
   "source": [
    "#### Bagging: Random Forest Model"
   ]
  },
  {
   "cell_type": "code",
   "execution_count": 21,
   "id": "c0782c97",
   "metadata": {},
   "outputs": [],
   "source": [
    "import numpy as np\n",
    "import pandas as pd\n",
    "import matplotlib.pyplot as plt\n",
    "from sklearn.model_selection import train_test_split # train, test 분리도구 \n",
    "from sklearn.datasets import load_breast_cancer # 유방암 데이터셋 "
   ]
  },
  {
   "cell_type": "code",
   "execution_count": 22,
   "id": "a39038d4",
   "metadata": {},
   "outputs": [
    {
     "data": {
      "text/plain": [
       "dict_keys(['data', 'target', 'frame', 'target_names', 'DESCR', 'feature_names', 'filename', 'data_module'])"
      ]
     },
     "execution_count": 22,
     "metadata": {},
     "output_type": "execute_result"
    }
   ],
   "source": [
    "cancer_data = load_breast_cancer()\n",
    "cancer_data\n",
    "\n",
    "# 번치객체 \n",
    "# 딕셔너리 유형 \n",
    "# keys()\n",
    "cancer_data.keys()"
   ]
  },
  {
   "cell_type": "code",
   "execution_count": 23,
   "id": "3a71dfaf",
   "metadata": {},
   "outputs": [
    {
     "data": {
      "text/plain": [
       "(569, 30)"
      ]
     },
     "execution_count": 23,
     "metadata": {},
     "output_type": "execute_result"
    }
   ],
   "source": [
    "# cancer_data.data\n",
    "# cancer_data['data']\n",
    "# 문제 데이터 확인 \n",
    "cancer_data.data[:3] # 3개의 행 출력\n",
    "cancer_data.data.shape # 569개 행, 30개 열(환자 정보)"
   ]
  },
  {
   "cell_type": "code",
   "execution_count": 24,
   "id": "e62ba53c",
   "metadata": {},
   "outputs": [
    {
     "data": {
      "text/plain": [
       "array(['mean radius', 'mean texture', 'mean perimeter', 'mean area',\n",
       "       'mean smoothness', 'mean compactness', 'mean concavity',\n",
       "       'mean concave points', 'mean symmetry', 'mean fractal dimension',\n",
       "       'radius error', 'texture error', 'perimeter error', 'area error',\n",
       "       'smoothness error', 'compactness error', 'concavity error',\n",
       "       'concave points error', 'symmetry error',\n",
       "       'fractal dimension error', 'worst radius', 'worst texture',\n",
       "       'worst perimeter', 'worst area', 'worst smoothness',\n",
       "       'worst compactness', 'worst concavity', 'worst concave points',\n",
       "       'worst symmetry', 'worst fractal dimension'], dtype='<U23')"
      ]
     },
     "execution_count": 24,
     "metadata": {},
     "output_type": "execute_result"
    }
   ],
   "source": [
    "# 문제 데이터 특성이름 확인 \n",
    "cancer_data.feature_names"
   ]
  },
  {
   "cell_type": "code",
   "execution_count": 25,
   "id": "59d609cd",
   "metadata": {},
   "outputs": [
    {
     "name": "stdout",
     "output_type": "stream",
     "text": [
      "클래스 종류: [0 1]\n",
      "악성/양성의 클래스 개수: (array([0, 1]), array([212, 357], dtype=int64))\n"
     ]
    }
   ],
   "source": [
    "# 답 데이터 확인 \n",
    "# 0,1 - 정수형 답 데이터 \n",
    "cancer_data.target\n",
    "print('클래스 종류:', np.unique(cancer_data.target))\n",
    "print('악성/양성의 클래스 개수:', np.unique(cancer_data.target, return_counts=True))"
   ]
  },
  {
   "cell_type": "code",
   "execution_count": 26,
   "id": "1f616cd0",
   "metadata": {},
   "outputs": [
    {
     "data": {
      "text/plain": [
       "array(['malignant', 'benign'], dtype='<U9')"
      ]
     },
     "execution_count": 26,
     "metadata": {},
     "output_type": "execute_result"
    }
   ],
   "source": [
    "# 답 데이터 실제 이름 확인\n",
    "cancer_data.target_names\n",
    "# 0 - 악성, 1. 양성 "
   ]
  },
  {
   "cell_type": "code",
   "execution_count": 27,
   "id": "02ebce27",
   "metadata": {},
   "outputs": [
    {
     "name": "stdout",
     "output_type": "stream",
     "text": [
      ".. _breast_cancer_dataset:\n",
      "\n",
      "Breast cancer wisconsin (diagnostic) dataset\n",
      "--------------------------------------------\n",
      "\n",
      "**Data Set Characteristics:**\n",
      "\n",
      "    :Number of Instances: 569\n",
      "\n",
      "    :Number of Attributes: 30 numeric, predictive attributes and the class\n",
      "\n",
      "    :Attribute Information:\n",
      "        - radius (mean of distances from center to points on the perimeter)\n",
      "        - texture (standard deviation of gray-scale values)\n",
      "        - perimeter\n",
      "        - area\n",
      "        - smoothness (local variation in radius lengths)\n",
      "        - compactness (perimeter^2 / area - 1.0)\n",
      "        - concavity (severity of concave portions of the contour)\n",
      "        - concave points (number of concave portions of the contour)\n",
      "        - symmetry\n",
      "        - fractal dimension (\"coastline approximation\" - 1)\n",
      "\n",
      "        The mean, standard error, and \"worst\" or largest (mean of the three\n",
      "        worst/largest values) of these features were computed for each image,\n",
      "        resulting in 30 features.  For instance, field 0 is Mean Radius, field\n",
      "        10 is Radius SE, field 20 is Worst Radius.\n",
      "\n",
      "        - class:\n",
      "                - WDBC-Malignant\n",
      "                - WDBC-Benign\n",
      "\n",
      "    :Summary Statistics:\n",
      "\n",
      "    ===================================== ====== ======\n",
      "                                           Min    Max\n",
      "    ===================================== ====== ======\n",
      "    radius (mean):                        6.981  28.11\n",
      "    texture (mean):                       9.71   39.28\n",
      "    perimeter (mean):                     43.79  188.5\n",
      "    area (mean):                          143.5  2501.0\n",
      "    smoothness (mean):                    0.053  0.163\n",
      "    compactness (mean):                   0.019  0.345\n",
      "    concavity (mean):                     0.0    0.427\n",
      "    concave points (mean):                0.0    0.201\n",
      "    symmetry (mean):                      0.106  0.304\n",
      "    fractal dimension (mean):             0.05   0.097\n",
      "    radius (standard error):              0.112  2.873\n",
      "    texture (standard error):             0.36   4.885\n",
      "    perimeter (standard error):           0.757  21.98\n",
      "    area (standard error):                6.802  542.2\n",
      "    smoothness (standard error):          0.002  0.031\n",
      "    compactness (standard error):         0.002  0.135\n",
      "    concavity (standard error):           0.0    0.396\n",
      "    concave points (standard error):      0.0    0.053\n",
      "    symmetry (standard error):            0.008  0.079\n",
      "    fractal dimension (standard error):   0.001  0.03\n",
      "    radius (worst):                       7.93   36.04\n",
      "    texture (worst):                      12.02  49.54\n",
      "    perimeter (worst):                    50.41  251.2\n",
      "    area (worst):                         185.2  4254.0\n",
      "    smoothness (worst):                   0.071  0.223\n",
      "    compactness (worst):                  0.027  1.058\n",
      "    concavity (worst):                    0.0    1.252\n",
      "    concave points (worst):               0.0    0.291\n",
      "    symmetry (worst):                     0.156  0.664\n",
      "    fractal dimension (worst):            0.055  0.208\n",
      "    ===================================== ====== ======\n",
      "\n",
      "    :Missing Attribute Values: None\n",
      "\n",
      "    :Class Distribution: 212 - Malignant, 357 - Benign\n",
      "\n",
      "    :Creator:  Dr. William H. Wolberg, W. Nick Street, Olvi L. Mangasarian\n",
      "\n",
      "    :Donor: Nick Street\n",
      "\n",
      "    :Date: November, 1995\n",
      "\n",
      "This is a copy of UCI ML Breast Cancer Wisconsin (Diagnostic) datasets.\n",
      "https://goo.gl/U2Uwz2\n",
      "\n",
      "Features are computed from a digitized image of a fine needle\n",
      "aspirate (FNA) of a breast mass.  They describe\n",
      "characteristics of the cell nuclei present in the image.\n",
      "\n",
      "Separating plane described above was obtained using\n",
      "Multisurface Method-Tree (MSM-T) [K. P. Bennett, \"Decision Tree\n",
      "Construction Via Linear Programming.\" Proceedings of the 4th\n",
      "Midwest Artificial Intelligence and Cognitive Science Society,\n",
      "pp. 97-101, 1992], a classification method which uses linear\n",
      "programming to construct a decision tree.  Relevant features\n",
      "were selected using an exhaustive search in the space of 1-4\n",
      "features and 1-3 separating planes.\n",
      "\n",
      "The actual linear program used to obtain the separating plane\n",
      "in the 3-dimensional space is that described in:\n",
      "[K. P. Bennett and O. L. Mangasarian: \"Robust Linear\n",
      "Programming Discrimination of Two Linearly Inseparable Sets\",\n",
      "Optimization Methods and Software 1, 1992, 23-34].\n",
      "\n",
      "This database is also available through the UW CS ftp server:\n",
      "\n",
      "ftp ftp.cs.wisc.edu\n",
      "cd math-prog/cpo-dataset/machine-learn/WDBC/\n",
      "\n",
      ".. topic:: References\n",
      "\n",
      "   - W.N. Street, W.H. Wolberg and O.L. Mangasarian. Nuclear feature extraction \n",
      "     for breast tumor diagnosis. IS&T/SPIE 1993 International Symposium on \n",
      "     Electronic Imaging: Science and Technology, volume 1905, pages 861-870,\n",
      "     San Jose, CA, 1993.\n",
      "   - O.L. Mangasarian, W.N. Street and W.H. Wolberg. Breast cancer diagnosis and \n",
      "     prognosis via linear programming. Operations Research, 43(4), pages 570-577, \n",
      "     July-August 1995.\n",
      "   - W.H. Wolberg, W.N. Street, and O.L. Mangasarian. Machine learning techniques\n",
      "     to diagnose breast cancer from fine-needle aspirates. Cancer Letters 77 (1994) \n",
      "     163-171.\n"
     ]
    }
   ],
   "source": [
    "# 데이터 설명 \n",
    "print(cancer_data.DESCR)"
   ]
  },
  {
   "cell_type": "markdown",
   "id": "cc5b6b14",
   "metadata": {},
   "source": [
    "#### Bagging: Random Forest Model\n",
    "  - 몇 개의 트리를 만들지 선택: n_estimators\n",
    "  - 단일 결정 트리에서 한 것처럼 max_depth 등의 매개변수를 조정하여 사전 가지치기"
   ]
  },
  {
   "cell_type": "code",
   "execution_count": 28,
   "id": "b395ba2f",
   "metadata": {},
   "outputs": [
    {
     "name": "stdout",
     "output_type": "stream",
     "text": [
      "훈련용 데이터: (426, 30) (426,)\n",
      "테스트용 데이터: (143, 30) (143,)\n"
     ]
    }
   ],
   "source": [
    "# train, test 생성해보기 \n",
    "# 문제 : cancer_data.data\n",
    "# 답 : cancer_data.target\n",
    "# 7.5,:2.5\n",
    "# 랜덤 고정값 5\n",
    "X_train, X_test, y_train, y_test = train_test_split(cancer_data.data,\n",
    "                                                   cancer_data.target,\n",
    "                                                   test_size = 0.25,\n",
    "                                                   random_state = 5)\n",
    "# 크기확인 \n",
    "# len(a) # 반환된 데이터 4개\n",
    "print('훈련용 데이터:', X_train.shape, y_train.shape)\n",
    "print('테스트용 데이터:', X_test.shape, y_test.shape)\n",
    "# 번치 객체 -> 문제, 답 따로 가지고 있어서 X,y 분리할 필요가 x"
   ]
  },
  {
   "cell_type": "code",
   "execution_count": 29,
   "id": "45440eb8",
   "metadata": {},
   "outputs": [
    {
     "data": {
      "text/html": [
       "<style>#sk-container-id-3 {color: black;background-color: white;}#sk-container-id-3 pre{padding: 0;}#sk-container-id-3 div.sk-toggleable {background-color: white;}#sk-container-id-3 label.sk-toggleable__label {cursor: pointer;display: block;width: 100%;margin-bottom: 0;padding: 0.3em;box-sizing: border-box;text-align: center;}#sk-container-id-3 label.sk-toggleable__label-arrow:before {content: \"▸\";float: left;margin-right: 0.25em;color: #696969;}#sk-container-id-3 label.sk-toggleable__label-arrow:hover:before {color: black;}#sk-container-id-3 div.sk-estimator:hover label.sk-toggleable__label-arrow:before {color: black;}#sk-container-id-3 div.sk-toggleable__content {max-height: 0;max-width: 0;overflow: hidden;text-align: left;background-color: #f0f8ff;}#sk-container-id-3 div.sk-toggleable__content pre {margin: 0.2em;color: black;border-radius: 0.25em;background-color: #f0f8ff;}#sk-container-id-3 input.sk-toggleable__control:checked~div.sk-toggleable__content {max-height: 200px;max-width: 100%;overflow: auto;}#sk-container-id-3 input.sk-toggleable__control:checked~label.sk-toggleable__label-arrow:before {content: \"▾\";}#sk-container-id-3 div.sk-estimator input.sk-toggleable__control:checked~label.sk-toggleable__label {background-color: #d4ebff;}#sk-container-id-3 div.sk-label input.sk-toggleable__control:checked~label.sk-toggleable__label {background-color: #d4ebff;}#sk-container-id-3 input.sk-hidden--visually {border: 0;clip: rect(1px 1px 1px 1px);clip: rect(1px, 1px, 1px, 1px);height: 1px;margin: -1px;overflow: hidden;padding: 0;position: absolute;width: 1px;}#sk-container-id-3 div.sk-estimator {font-family: monospace;background-color: #f0f8ff;border: 1px dotted black;border-radius: 0.25em;box-sizing: border-box;margin-bottom: 0.5em;}#sk-container-id-3 div.sk-estimator:hover {background-color: #d4ebff;}#sk-container-id-3 div.sk-parallel-item::after {content: \"\";width: 100%;border-bottom: 1px solid gray;flex-grow: 1;}#sk-container-id-3 div.sk-label:hover label.sk-toggleable__label {background-color: #d4ebff;}#sk-container-id-3 div.sk-serial::before {content: \"\";position: absolute;border-left: 1px solid gray;box-sizing: border-box;top: 0;bottom: 0;left: 50%;z-index: 0;}#sk-container-id-3 div.sk-serial {display: flex;flex-direction: column;align-items: center;background-color: white;padding-right: 0.2em;padding-left: 0.2em;position: relative;}#sk-container-id-3 div.sk-item {position: relative;z-index: 1;}#sk-container-id-3 div.sk-parallel {display: flex;align-items: stretch;justify-content: center;background-color: white;position: relative;}#sk-container-id-3 div.sk-item::before, #sk-container-id-3 div.sk-parallel-item::before {content: \"\";position: absolute;border-left: 1px solid gray;box-sizing: border-box;top: 0;bottom: 0;left: 50%;z-index: -1;}#sk-container-id-3 div.sk-parallel-item {display: flex;flex-direction: column;z-index: 1;position: relative;background-color: white;}#sk-container-id-3 div.sk-parallel-item:first-child::after {align-self: flex-end;width: 50%;}#sk-container-id-3 div.sk-parallel-item:last-child::after {align-self: flex-start;width: 50%;}#sk-container-id-3 div.sk-parallel-item:only-child::after {width: 0;}#sk-container-id-3 div.sk-dashed-wrapped {border: 1px dashed gray;margin: 0 0.4em 0.5em 0.4em;box-sizing: border-box;padding-bottom: 0.4em;background-color: white;}#sk-container-id-3 div.sk-label label {font-family: monospace;font-weight: bold;display: inline-block;line-height: 1.2em;}#sk-container-id-3 div.sk-label-container {text-align: center;}#sk-container-id-3 div.sk-container {/* jupyter's `normalize.less` sets `[hidden] { display: none; }` but bootstrap.min.css set `[hidden] { display: none !important; }` so we also need the `!important` here to be able to override the default hidden behavior on the sphinx rendered scikit-learn.org. See: https://github.com/scikit-learn/scikit-learn/issues/21755 */display: inline-block !important;position: relative;}#sk-container-id-3 div.sk-text-repr-fallback {display: none;}</style><div id=\"sk-container-id-3\" class=\"sk-top-container\"><div class=\"sk-text-repr-fallback\"><pre>RandomForestClassifier(n_estimators=120, random_state=10)</pre><b>In a Jupyter environment, please rerun this cell to show the HTML representation or trust the notebook. <br />On GitHub, the HTML representation is unable to render, please try loading this page with nbviewer.org.</b></div><div class=\"sk-container\" hidden><div class=\"sk-item\"><div class=\"sk-estimator sk-toggleable\"><input class=\"sk-toggleable__control sk-hidden--visually\" id=\"sk-estimator-id-5\" type=\"checkbox\" checked><label for=\"sk-estimator-id-5\" class=\"sk-toggleable__label sk-toggleable__label-arrow\">RandomForestClassifier</label><div class=\"sk-toggleable__content\"><pre>RandomForestClassifier(n_estimators=120, random_state=10)</pre></div></div></div></div></div>"
      ],
      "text/plain": [
       "RandomForestClassifier(n_estimators=120, random_state=10)"
      ]
     },
     "execution_count": 29,
     "metadata": {},
     "output_type": "execute_result"
    }
   ],
   "source": [
    "# 모델 불러오기 \n",
    "from sklearn.ensemble import RandomForestClassifier # rf 분류모델 \n",
    "\n",
    "# 모델 객체 생성 \n",
    "rf_model = RandomForestClassifier(n_estimators=120, random_state = 10)\n",
    "\n",
    "# 모델 학습 \n",
    "rf_model.fit(X_train, y_train)"
   ]
  },
  {
   "cell_type": "code",
   "execution_count": 30,
   "id": "f530f58c",
   "metadata": {},
   "outputs": [
    {
     "data": {
      "text/plain": [
       "0.9482900136798905"
      ]
     },
     "execution_count": 30,
     "metadata": {},
     "output_type": "execute_result"
    }
   ],
   "source": [
    "# 교차검증 \n",
    "# 훈련 데이터, 검증횟수 5\n",
    "# 양이 많은 train을 통해서 vol 만들어냄\n",
    "from sklearn.model_selection import cross_val_score\n",
    "cross_val_score(rf_model, X_train, y_train, cv=5).mean()"
   ]
  },
  {
   "cell_type": "code",
   "execution_count": 31,
   "id": "2ea07175",
   "metadata": {},
   "outputs": [
    {
     "name": "stdout",
     "output_type": "stream",
     "text": [
      "예측 결과: [0 1 1 1 1 0 1 1 1 1 1 1 0 1 1 1 1 1 1 1 0 1 1 1 1 1 1 0 1 0 0 0 0 0 1 1 0\n",
      " 1 1 0 1 1 1 0 1 1 0 0 1 0 1 1 1 1 1 0 0 0 1 0 0 0 1 1 1 1 1 1 1 0 1 0 1 1\n",
      " 1 1 0 1 0 0 0 1 0 0 0 1 0 1 0 0 0 0 1 1 0 0 1 1 1 1 1 0 1 1 0 0 1 0 1 1 1\n",
      " 0 0 0 1 1 0 1 0 1 1 1 0 1 0 1 0 1 1 0 1 1 1 1 1 0 1 1 1 1 1 1 1]\n",
      "실제 결과: ['malignant' 'benign' 'benign' 'benign' 'benign' 'malignant' 'benign'\n",
      " 'benign' 'benign' 'benign' 'benign' 'benign' 'malignant' 'benign'\n",
      " 'benign' 'benign' 'benign' 'benign' 'benign' 'benign' 'malignant'\n",
      " 'benign' 'benign' 'benign' 'benign' 'benign' 'benign' 'malignant'\n",
      " 'benign' 'malignant' 'malignant' 'malignant' 'malignant' 'malignant'\n",
      " 'benign' 'benign' 'malignant' 'benign' 'benign' 'malignant' 'benign'\n",
      " 'benign' 'benign' 'malignant' 'benign' 'benign' 'malignant' 'malignant'\n",
      " 'benign' 'malignant' 'benign' 'benign' 'benign' 'benign' 'benign'\n",
      " 'malignant' 'malignant' 'malignant' 'benign' 'malignant' 'malignant'\n",
      " 'malignant' 'benign' 'benign' 'benign' 'benign' 'benign' 'benign'\n",
      " 'benign' 'malignant' 'benign' 'malignant' 'benign' 'benign' 'benign'\n",
      " 'benign' 'malignant' 'benign' 'malignant' 'malignant' 'malignant'\n",
      " 'benign' 'malignant' 'malignant' 'malignant' 'benign' 'malignant'\n",
      " 'benign' 'malignant' 'malignant' 'malignant' 'malignant' 'benign'\n",
      " 'benign' 'malignant' 'malignant' 'benign' 'benign' 'benign' 'benign'\n",
      " 'benign' 'malignant' 'benign' 'benign' 'malignant' 'malignant' 'benign'\n",
      " 'malignant' 'benign' 'benign' 'benign' 'malignant' 'malignant'\n",
      " 'malignant' 'benign' 'benign' 'malignant' 'benign' 'malignant' 'benign'\n",
      " 'benign' 'benign' 'malignant' 'benign' 'malignant' 'benign' 'malignant'\n",
      " 'benign' 'benign' 'malignant' 'benign' 'benign' 'benign' 'benign'\n",
      " 'benign' 'malignant' 'benign' 'benign' 'benign' 'benign' 'benign'\n",
      " 'benign' 'benign']\n"
     ]
    }
   ],
   "source": [
    "# 예측\n",
    "pre = rf_model.predict(X_test)\n",
    "\n",
    "# 0, 1 출력\n",
    "print('예측 결과:', pre)\n",
    "# 타겟 실제 이름으로 결과 출력\n",
    "print('실제 결과:', cancer_data.target_names[pre])"
   ]
  },
  {
   "cell_type": "code",
   "execution_count": 32,
   "id": "04347e4d",
   "metadata": {},
   "outputs": [
    {
     "data": {
      "text/plain": [
       "0.9790209790209791"
      ]
     },
     "execution_count": 32,
     "metadata": {},
     "output_type": "execute_result"
    }
   ],
   "source": [
    "# 평가 \n",
    "# accuracy 정확도 확인 \n",
    "# model.score(X,y)\n",
    "rf_model.score(X_test, y_test) # 98%"
   ]
  },
  {
   "cell_type": "markdown",
   "id": "6dc33227",
   "metadata": {},
   "source": [
    "#### GridSearchCV를 적용하여 모델 성능 향상 시키기 \n",
    "  - 최적의 하이퍼파라미터 조합 확인하기 "
   ]
  },
  {
   "cell_type": "code",
   "execution_count": 33,
   "id": "748f78bb",
   "metadata": {},
   "outputs": [
    {
     "data": {
      "text/html": [
       "<style>#sk-container-id-4 {color: black;background-color: white;}#sk-container-id-4 pre{padding: 0;}#sk-container-id-4 div.sk-toggleable {background-color: white;}#sk-container-id-4 label.sk-toggleable__label {cursor: pointer;display: block;width: 100%;margin-bottom: 0;padding: 0.3em;box-sizing: border-box;text-align: center;}#sk-container-id-4 label.sk-toggleable__label-arrow:before {content: \"▸\";float: left;margin-right: 0.25em;color: #696969;}#sk-container-id-4 label.sk-toggleable__label-arrow:hover:before {color: black;}#sk-container-id-4 div.sk-estimator:hover label.sk-toggleable__label-arrow:before {color: black;}#sk-container-id-4 div.sk-toggleable__content {max-height: 0;max-width: 0;overflow: hidden;text-align: left;background-color: #f0f8ff;}#sk-container-id-4 div.sk-toggleable__content pre {margin: 0.2em;color: black;border-radius: 0.25em;background-color: #f0f8ff;}#sk-container-id-4 input.sk-toggleable__control:checked~div.sk-toggleable__content {max-height: 200px;max-width: 100%;overflow: auto;}#sk-container-id-4 input.sk-toggleable__control:checked~label.sk-toggleable__label-arrow:before {content: \"▾\";}#sk-container-id-4 div.sk-estimator input.sk-toggleable__control:checked~label.sk-toggleable__label {background-color: #d4ebff;}#sk-container-id-4 div.sk-label input.sk-toggleable__control:checked~label.sk-toggleable__label {background-color: #d4ebff;}#sk-container-id-4 input.sk-hidden--visually {border: 0;clip: rect(1px 1px 1px 1px);clip: rect(1px, 1px, 1px, 1px);height: 1px;margin: -1px;overflow: hidden;padding: 0;position: absolute;width: 1px;}#sk-container-id-4 div.sk-estimator {font-family: monospace;background-color: #f0f8ff;border: 1px dotted black;border-radius: 0.25em;box-sizing: border-box;margin-bottom: 0.5em;}#sk-container-id-4 div.sk-estimator:hover {background-color: #d4ebff;}#sk-container-id-4 div.sk-parallel-item::after {content: \"\";width: 100%;border-bottom: 1px solid gray;flex-grow: 1;}#sk-container-id-4 div.sk-label:hover label.sk-toggleable__label {background-color: #d4ebff;}#sk-container-id-4 div.sk-serial::before {content: \"\";position: absolute;border-left: 1px solid gray;box-sizing: border-box;top: 0;bottom: 0;left: 50%;z-index: 0;}#sk-container-id-4 div.sk-serial {display: flex;flex-direction: column;align-items: center;background-color: white;padding-right: 0.2em;padding-left: 0.2em;position: relative;}#sk-container-id-4 div.sk-item {position: relative;z-index: 1;}#sk-container-id-4 div.sk-parallel {display: flex;align-items: stretch;justify-content: center;background-color: white;position: relative;}#sk-container-id-4 div.sk-item::before, #sk-container-id-4 div.sk-parallel-item::before {content: \"\";position: absolute;border-left: 1px solid gray;box-sizing: border-box;top: 0;bottom: 0;left: 50%;z-index: -1;}#sk-container-id-4 div.sk-parallel-item {display: flex;flex-direction: column;z-index: 1;position: relative;background-color: white;}#sk-container-id-4 div.sk-parallel-item:first-child::after {align-self: flex-end;width: 50%;}#sk-container-id-4 div.sk-parallel-item:last-child::after {align-self: flex-start;width: 50%;}#sk-container-id-4 div.sk-parallel-item:only-child::after {width: 0;}#sk-container-id-4 div.sk-dashed-wrapped {border: 1px dashed gray;margin: 0 0.4em 0.5em 0.4em;box-sizing: border-box;padding-bottom: 0.4em;background-color: white;}#sk-container-id-4 div.sk-label label {font-family: monospace;font-weight: bold;display: inline-block;line-height: 1.2em;}#sk-container-id-4 div.sk-label-container {text-align: center;}#sk-container-id-4 div.sk-container {/* jupyter's `normalize.less` sets `[hidden] { display: none; }` but bootstrap.min.css set `[hidden] { display: none !important; }` so we also need the `!important` here to be able to override the default hidden behavior on the sphinx rendered scikit-learn.org. See: https://github.com/scikit-learn/scikit-learn/issues/21755 */display: inline-block !important;position: relative;}#sk-container-id-4 div.sk-text-repr-fallback {display: none;}</style><div id=\"sk-container-id-4\" class=\"sk-top-container\"><div class=\"sk-text-repr-fallback\"><pre>GridSearchCV(cv=5, estimator=RandomForestClassifier(random_state=5), n_jobs=-1,\n",
       "             param_grid={&#x27;max_depth&#x27;: [3, 5, 7], &#x27;max_leaf_nodes&#x27;: [4, 8],\n",
       "                         &#x27;min_samples_split&#x27;: [3, 5, 7],\n",
       "                         &#x27;n_estimators&#x27;: [50, 80, 100, 120]},\n",
       "             scoring=&#x27;accuracy&#x27;)</pre><b>In a Jupyter environment, please rerun this cell to show the HTML representation or trust the notebook. <br />On GitHub, the HTML representation is unable to render, please try loading this page with nbviewer.org.</b></div><div class=\"sk-container\" hidden><div class=\"sk-item sk-dashed-wrapped\"><div class=\"sk-label-container\"><div class=\"sk-label sk-toggleable\"><input class=\"sk-toggleable__control sk-hidden--visually\" id=\"sk-estimator-id-6\" type=\"checkbox\" ><label for=\"sk-estimator-id-6\" class=\"sk-toggleable__label sk-toggleable__label-arrow\">GridSearchCV</label><div class=\"sk-toggleable__content\"><pre>GridSearchCV(cv=5, estimator=RandomForestClassifier(random_state=5), n_jobs=-1,\n",
       "             param_grid={&#x27;max_depth&#x27;: [3, 5, 7], &#x27;max_leaf_nodes&#x27;: [4, 8],\n",
       "                         &#x27;min_samples_split&#x27;: [3, 5, 7],\n",
       "                         &#x27;n_estimators&#x27;: [50, 80, 100, 120]},\n",
       "             scoring=&#x27;accuracy&#x27;)</pre></div></div></div><div class=\"sk-parallel\"><div class=\"sk-parallel-item\"><div class=\"sk-item\"><div class=\"sk-label-container\"><div class=\"sk-label sk-toggleable\"><input class=\"sk-toggleable__control sk-hidden--visually\" id=\"sk-estimator-id-7\" type=\"checkbox\" ><label for=\"sk-estimator-id-7\" class=\"sk-toggleable__label sk-toggleable__label-arrow\">estimator: RandomForestClassifier</label><div class=\"sk-toggleable__content\"><pre>RandomForestClassifier(random_state=5)</pre></div></div></div><div class=\"sk-serial\"><div class=\"sk-item\"><div class=\"sk-estimator sk-toggleable\"><input class=\"sk-toggleable__control sk-hidden--visually\" id=\"sk-estimator-id-8\" type=\"checkbox\" ><label for=\"sk-estimator-id-8\" class=\"sk-toggleable__label sk-toggleable__label-arrow\">RandomForestClassifier</label><div class=\"sk-toggleable__content\"><pre>RandomForestClassifier(random_state=5)</pre></div></div></div></div></div></div></div></div></div></div>"
      ],
      "text/plain": [
       "GridSearchCV(cv=5, estimator=RandomForestClassifier(random_state=5), n_jobs=-1,\n",
       "             param_grid={'max_depth': [3, 5, 7], 'max_leaf_nodes': [4, 8],\n",
       "                         'min_samples_split': [3, 5, 7],\n",
       "                         'n_estimators': [50, 80, 100, 120]},\n",
       "             scoring='accuracy')"
      ]
     },
     "execution_count": 33,
     "metadata": {},
     "output_type": "execute_result"
    }
   ],
   "source": [
    "# RF 모델 - n_estimators, max_depth min_samples_split, max_leaf_nodes\n",
    "from sklearn.model_selection import GridSearchCV\n",
    "# 교차 검증을 통한 하이퍼 파라미터 최적의 조합을 찾는 도구\n",
    "# 1. 튜닝할 매개변수 설정 값 정의 \n",
    "params = {'n_estimators':[50,80,100,120],\n",
    "          'max_depth':[3,5,7],\n",
    "          'max_leaf_nodes':[4,8],\n",
    "          'min_samples_split':[3,5,7]}\n",
    "\n",
    "# 랜덤포레스트 모델 객체 생성 \n",
    "model = RandomForestClassifier(random_state = 5)\n",
    "\n",
    "# 그리드서치 모델 객체 생성 \n",
    "# n_jobs = -1 (코어를 최대한 활용해라)\n",
    "grid = GridSearchCV(model, params, cv=5, scoring = 'accuracy', n_jobs = -1)\n",
    "\n",
    "# 학습 실행 \n",
    "grid.fit(X_train, y_train)"
   ]
  },
  {
   "cell_type": "code",
   "execution_count": 34,
   "id": "334f4f05",
   "metadata": {},
   "outputs": [
    {
     "name": "stdout",
     "output_type": "stream",
     "text": [
      "최고 성능: 0.94593707250342\n",
      "최고의 파라미터 조합: {'max_depth': 7, 'max_leaf_nodes': 8, 'min_samples_split': 5, 'n_estimators': 100}\n"
     ]
    }
   ],
   "source": [
    "# 가장 높은 성능일 때의 모델에 대한 파라미터 조합 확인 \n",
    "print('최고 성능:', grid.best_score_)\n",
    "print('최고의 파라미터 조합:', grid.best_params_)"
   ]
  },
  {
   "cell_type": "markdown",
   "id": "4d15336b",
   "metadata": {},
   "source": [
    "- 모델 완성 및 영향력 높은 특성 확인"
   ]
  },
  {
   "cell_type": "code",
   "execution_count": 43,
   "id": "81048a53",
   "metadata": {},
   "outputs": [
    {
     "data": {
      "text/html": [
       "<div>\n",
       "<style scoped>\n",
       "    .dataframe tbody tr th:only-of-type {\n",
       "        vertical-align: middle;\n",
       "    }\n",
       "\n",
       "    .dataframe tbody tr th {\n",
       "        vertical-align: top;\n",
       "    }\n",
       "\n",
       "    .dataframe thead th {\n",
       "        text-align: right;\n",
       "    }\n",
       "</style>\n",
       "<table border=\"1\" class=\"dataframe\">\n",
       "  <thead>\n",
       "    <tr style=\"text-align: right;\">\n",
       "      <th></th>\n",
       "      <th>importances</th>\n",
       "    </tr>\n",
       "  </thead>\n",
       "  <tbody>\n",
       "    <tr>\n",
       "      <th>22</th>\n",
       "      <td>0.167574</td>\n",
       "    </tr>\n",
       "    <tr>\n",
       "      <th>23</th>\n",
       "      <td>0.125926</td>\n",
       "    </tr>\n",
       "    <tr>\n",
       "      <th>27</th>\n",
       "      <td>0.120328</td>\n",
       "    </tr>\n",
       "    <tr>\n",
       "      <th>20</th>\n",
       "      <td>0.091352</td>\n",
       "    </tr>\n",
       "    <tr>\n",
       "      <th>7</th>\n",
       "      <td>0.082856</td>\n",
       "    </tr>\n",
       "  </tbody>\n",
       "</table>\n",
       "</div>"
      ],
      "text/plain": [
       "    importances\n",
       "22     0.167574\n",
       "23     0.125926\n",
       "27     0.120328\n",
       "20     0.091352\n",
       "7      0.082856"
      ]
     },
     "execution_count": 43,
     "metadata": {},
     "output_type": "execute_result"
    }
   ],
   "source": [
    "# rf 모델 완성 \n",
    "rf_best = RandomForestClassifier(n_estimators = 60,\n",
    "                                max_depth = 7,\n",
    "                                max_leaf_nodes = 8,\n",
    "                                min_samples_split = 5)\n",
    "\n",
    "# 모델 학습 \n",
    "rf_best.fit(X_train, y_train) # 데이터가x, 크기 문제 에러 \n",
    "\n",
    "# 모델 특성의 중요도 출력\n",
    "# rf_best.feature_importances_ -> pandas 형태로 변경해서 보기 \n",
    "rf_fi_df = pd.DataFrame(rf_best.feature_importances_,\n",
    "                       columns = ['importances'])\n",
    "rf_fi_df.sort_values(by = 'importances', ascending = False).head()\n",
    "# 일반화 모델 찾으려고 하이퍼 파라미터 등 찾는 것 -> 머신러닝 "
   ]
  },
  {
   "cell_type": "code",
   "execution_count": null,
   "id": "d508bce9",
   "metadata": {},
   "outputs": [],
   "source": [
    "# AttributeError: 'numpy.ndarray' object has no attribute"
   ]
  },
  {
   "cell_type": "markdown",
   "id": "c68fda7d",
   "metadata": {},
   "source": [
    "#### Boosting: AdaBoost(Adaptive) Model\n",
    "  - rf모델처럼 의사결정나무 기반의 모델이지만 각각의 트리들이 독립적으로 존재하지는 않음\n",
    "  - 트리모델이 내부적으로 순차적으로 학습\n",
    "  - n_estimators: 사용할 결정트리 분류 모델 개수 \n",
    "  - learning_rate: 학습률, 가중치 부여하는(갱신하는) 폭을 조정 / 0~1 / 기본값 1.0\n",
    "  - 분류와 회귀 모두 사용 가능 \n",
    "  - 사전 가지치기를 사용할 수 없음"
   ]
  },
  {
   "cell_type": "code",
   "execution_count": 66,
   "id": "47392d78",
   "metadata": {
    "scrolled": true
   },
   "outputs": [
    {
     "name": "stdout",
     "output_type": "stream",
     "text": [
      "train 정확도: 0.9647887323943662\n",
      "test 정확도: 0.958041958041958\n",
      "train 정확도: 0.9647887323943662\n",
      "test 정확도: 0.958041958041958\n"
     ]
    }
   ],
   "source": [
    "# Adaboost 모델\n",
    "from sklearn.ensemble import AdaBoostClassifier\n",
    "\n",
    "# 모델 객체 생성\n",
    "# 트리모델 개수 : 5, 고정키워드 : 5, 학습률 1.0\n",
    "\n",
    "ada_model = AdaBoostClassifier(n_estimators=5, random_state=5, learning_rate=1.0)\n",
    "\n",
    "\n",
    "# 모델 학습 (실제 학습 데이터 사용해야 함)\n",
    "ada_model.fit(X_train, y_train)\n",
    "\n",
    "# 모델 예측 (테스트 데이터 또는 다른 데이터 사용)\n",
    "pre = ada_model.predict(X_test)\n",
    "\n",
    "\n",
    "pre_tr = ada_model.predict(X_train)\n",
    "pre_te = ada_model.predict(X_test)\n",
    "\n",
    "\n",
    "# 모델 평가\n",
    "# score\n",
    "from sklearn.metrics import accuracy_score\n",
    "# accuracy_score(실제답, 예측값)\n",
    "train_acc = accuracy_score(y_train, pre_tr)\n",
    "test_acc = accuracy_score(y_test, pre_te)\n",
    "print('train 정확도:', train_acc)\n",
    "print('test 정확도:', test_acc)\n",
    "\n",
    "#2. 모델.score(문제,답)\n",
    "# 예측하는 과정 불필요\n",
    "train_acc2 = ada_model.score(X_train,y_train)\n",
    "test_acc2= ada_model.score(X_test,y_test)\n",
    "print('train 정확도:', train_acc2)\n",
    "print('test 정확도:', test_acc2)"
   ]
  },
  {
   "cell_type": "markdown",
   "id": "0dc2e254",
   "metadata": {},
   "source": [
    "#### GridSearchCV를 적용하여 모델의 성능 향상 시키기 "
   ]
  },
  {
   "cell_type": "code",
   "execution_count": 70,
   "id": "848261f1",
   "metadata": {},
   "outputs": [
    {
     "name": "stdout",
     "output_type": "stream",
     "text": [
      "Best Score: 0.9600273597811217\n",
      "Best Parameters: {'learning_rate': 0.6, 'n_estimators': 75}\n"
     ]
    }
   ],
   "source": [
    "from sklearn.ensemble import AdaBoostClassifier\n",
    "from sklearn.model_selection import GridSearchCV\n",
    "\n",
    "# gridSearchCV()\n",
    "# 1. 튜닝할 매개변수 정의\n",
    "params = {\n",
    "    'n_estimators': [25, 50, 75],\n",
    "    'learning_rate': [0.4, 0.6, 1.0]\n",
    "}\n",
    "# 2. 모델 객체 생성\n",
    "model = AdaBoostClassifier(random_state=5)\n",
    "\n",
    "# 3. 1,2 내용 연결하면서 그리드서치객체 생성\n",
    "grid = GridSearchCV(model, params, cv=5, scoring= 'accuracy', n_jobs =-1)  \n",
    "\n",
    "# 4. 학습\n",
    "grid.fit(X_train, y_train)\n",
    "\n",
    "# 최적의 성능, 최적의 파라미터 조합\n",
    "print(\"Best Score:\", grid.best_score_)\n",
    "print(\"Best Parameters:\", grid.best_params_)"
   ]
  },
  {
   "cell_type": "code",
   "execution_count": 71,
   "id": "2c2c862e",
   "metadata": {},
   "outputs": [
    {
     "name": "stdout",
     "output_type": "stream",
     "text": [
      "최적의 성능 0.9600273597811217\n",
      "최적의 파라미터 조합: {'learning_rate': 0.6, 'n_estimators': 75}\n"
     ]
    }
   ],
   "source": [
    "# 최적의 성능, 최적의 파라미터 조합 \n",
    "print('최적의 성능', grid.best_score_)\n",
    "print('최적의 파라미터 조합:', grid.best_params_)"
   ]
  },
  {
   "cell_type": "code",
   "execution_count": 75,
   "id": "5c867b26",
   "metadata": {
    "scrolled": true
   },
   "outputs": [
    {
     "data": {
      "text/html": [
       "<div>\n",
       "<style scoped>\n",
       "    .dataframe tbody tr th:only-of-type {\n",
       "        vertical-align: middle;\n",
       "    }\n",
       "\n",
       "    .dataframe tbody tr th {\n",
       "        vertical-align: top;\n",
       "    }\n",
       "\n",
       "    .dataframe thead th {\n",
       "        text-align: right;\n",
       "    }\n",
       "</style>\n",
       "<table border=\"1\" class=\"dataframe\">\n",
       "  <thead>\n",
       "    <tr style=\"text-align: right;\">\n",
       "      <th></th>\n",
       "      <th>importances</th>\n",
       "    </tr>\n",
       "  </thead>\n",
       "  <tbody>\n",
       "    <tr>\n",
       "      <th>worst texture</th>\n",
       "      <td>0.093333</td>\n",
       "    </tr>\n",
       "    <tr>\n",
       "      <th>area error</th>\n",
       "      <td>0.093333</td>\n",
       "    </tr>\n",
       "    <tr>\n",
       "      <th>worst area</th>\n",
       "      <td>0.080000</td>\n",
       "    </tr>\n",
       "    <tr>\n",
       "      <th>worst concavity</th>\n",
       "      <td>0.066667</td>\n",
       "    </tr>\n",
       "    <tr>\n",
       "      <th>mean texture</th>\n",
       "      <td>0.066667</td>\n",
       "    </tr>\n",
       "  </tbody>\n",
       "</table>\n",
       "</div>"
      ],
      "text/plain": [
       "                 importances\n",
       "worst texture       0.093333\n",
       "area error          0.093333\n",
       "worst area          0.080000\n",
       "worst concavity     0.066667\n",
       "mean texture        0.066667"
      ]
     },
     "execution_count": 75,
     "metadata": {},
     "output_type": "execute_result"
    }
   ],
   "source": [
    "# 모델 완성 및 특성 중요도 확인 \n",
    "ada_best = AdaBoostClassifier(n_estimators=75,\n",
    "                             learning_rate=0.6,\n",
    "                             random_state = 5)\n",
    "\n",
    "# 학습 \n",
    "ada_best.fit(X_train, y_train)\n",
    "\n",
    "# 특성 중요도 \n",
    "# rf 모델 비교해보기 \n",
    "ada_fi_df = pd.DataFrame(ada_best.feature_importances_,\n",
    "                        index = cancer_data.feature_names,\n",
    "                       columns = ['importances'])\n",
    "ada_fi_df.sort_values(by = 'importances', ascending = False).head()\n",
    "# 일반화 모델 찾으려고 하이퍼 파라미터 등 찾는 것 -> 머신러닝 "
   ]
  },
  {
   "cell_type": "markdown",
   "id": "7e6b7fe3",
   "metadata": {},
   "source": [
    "#### Boosting: GrandientBoosting Model\n",
    "  - 여러 개의 결정 트리를 묶어 강력한 모델을 만드는 앙상블 방법, \n",
    "  - AdaBoost와 유사 \n",
    "  - 강력한 사전 가지치기를 사용 \n",
    "  - 회귀와 분류 모두 사용 가능 \n",
    "  - n_estimators : 예측기 개수 설정 \n",
    "  - learning_rate(학습률): 가중치 갱신 변동폭을 조정, 0~1, 기본값 0.1\n",
    "  - max_depth를 작게 설정하며 트리 깊이가 5보다 깊어지지 않게 함 \n",
    "  - 예측 성능이 높지만 과대적합이 빠르게 되며, 시간이 오래 걸린다는 단점이 있음"
   ]
  },
  {
   "cell_type": "code",
   "execution_count": 79,
   "id": "f3240ebb",
   "metadata": {},
   "outputs": [
    {
     "name": "stdout",
     "output_type": "stream",
     "text": [
      "train 정확도: 1.0\n",
      "test 정확도: 0.9790209790209791\n"
     ]
    }
   ],
   "source": [
    "# gb모델 \n",
    "from sklearn.ensemble import GradientBoostingClassifier\n",
    "# 객체 생성 \n",
    "gb_model = GradientBoostingClassifier(random_state= 5)\n",
    "# 학습\n",
    "gb_model.fit(X_train, y_train)\n",
    "#평가(train, test)\n",
    "# 모델.score()\n",
    "tr_acc = gb_model.score(X_train, y_train)\n",
    "te_acc = gb_model.score(X_test, y_test)\n",
    "print('train 정확도:', tr_acc)\n",
    "print('test 정확도:', te_acc)"
   ]
  },
  {
   "cell_type": "code",
   "execution_count": 81,
   "id": "1d1b8537",
   "metadata": {},
   "outputs": [
    {
     "data": {
      "text/plain": [
       "array([0.98837209, 0.94117647, 0.95294118, 0.98823529, 0.91764706])"
      ]
     },
     "execution_count": 81,
     "metadata": {},
     "output_type": "execute_result"
    }
   ],
   "source": [
    "# 교차검증 - train\n",
    "# 여러번 테스트(검증) 데이터를 만들어서 각 정확도를 확인해보는 작업 \n",
    "# cv = 5, gb_model\n",
    "cross_val_score(gb_model, X_train, y_train, cv=5)# .mean()"
   ]
  },
  {
   "cell_type": "markdown",
   "id": "f57ebbbb",
   "metadata": {},
   "source": [
    "#### GridSearchCV 를 적용하여 모델의 성능 향상 \n",
    "  - n_estimators, max_depth, learning_rate"
   ]
  },
  {
   "cell_type": "code",
   "execution_count": 84,
   "id": "1bb50b11",
   "metadata": {},
   "outputs": [
    {
     "data": {
      "text/html": [
       "<style>#sk-container-id-10 {color: black;background-color: white;}#sk-container-id-10 pre{padding: 0;}#sk-container-id-10 div.sk-toggleable {background-color: white;}#sk-container-id-10 label.sk-toggleable__label {cursor: pointer;display: block;width: 100%;margin-bottom: 0;padding: 0.3em;box-sizing: border-box;text-align: center;}#sk-container-id-10 label.sk-toggleable__label-arrow:before {content: \"▸\";float: left;margin-right: 0.25em;color: #696969;}#sk-container-id-10 label.sk-toggleable__label-arrow:hover:before {color: black;}#sk-container-id-10 div.sk-estimator:hover label.sk-toggleable__label-arrow:before {color: black;}#sk-container-id-10 div.sk-toggleable__content {max-height: 0;max-width: 0;overflow: hidden;text-align: left;background-color: #f0f8ff;}#sk-container-id-10 div.sk-toggleable__content pre {margin: 0.2em;color: black;border-radius: 0.25em;background-color: #f0f8ff;}#sk-container-id-10 input.sk-toggleable__control:checked~div.sk-toggleable__content {max-height: 200px;max-width: 100%;overflow: auto;}#sk-container-id-10 input.sk-toggleable__control:checked~label.sk-toggleable__label-arrow:before {content: \"▾\";}#sk-container-id-10 div.sk-estimator input.sk-toggleable__control:checked~label.sk-toggleable__label {background-color: #d4ebff;}#sk-container-id-10 div.sk-label input.sk-toggleable__control:checked~label.sk-toggleable__label {background-color: #d4ebff;}#sk-container-id-10 input.sk-hidden--visually {border: 0;clip: rect(1px 1px 1px 1px);clip: rect(1px, 1px, 1px, 1px);height: 1px;margin: -1px;overflow: hidden;padding: 0;position: absolute;width: 1px;}#sk-container-id-10 div.sk-estimator {font-family: monospace;background-color: #f0f8ff;border: 1px dotted black;border-radius: 0.25em;box-sizing: border-box;margin-bottom: 0.5em;}#sk-container-id-10 div.sk-estimator:hover {background-color: #d4ebff;}#sk-container-id-10 div.sk-parallel-item::after {content: \"\";width: 100%;border-bottom: 1px solid gray;flex-grow: 1;}#sk-container-id-10 div.sk-label:hover label.sk-toggleable__label {background-color: #d4ebff;}#sk-container-id-10 div.sk-serial::before {content: \"\";position: absolute;border-left: 1px solid gray;box-sizing: border-box;top: 0;bottom: 0;left: 50%;z-index: 0;}#sk-container-id-10 div.sk-serial {display: flex;flex-direction: column;align-items: center;background-color: white;padding-right: 0.2em;padding-left: 0.2em;position: relative;}#sk-container-id-10 div.sk-item {position: relative;z-index: 1;}#sk-container-id-10 div.sk-parallel {display: flex;align-items: stretch;justify-content: center;background-color: white;position: relative;}#sk-container-id-10 div.sk-item::before, #sk-container-id-10 div.sk-parallel-item::before {content: \"\";position: absolute;border-left: 1px solid gray;box-sizing: border-box;top: 0;bottom: 0;left: 50%;z-index: -1;}#sk-container-id-10 div.sk-parallel-item {display: flex;flex-direction: column;z-index: 1;position: relative;background-color: white;}#sk-container-id-10 div.sk-parallel-item:first-child::after {align-self: flex-end;width: 50%;}#sk-container-id-10 div.sk-parallel-item:last-child::after {align-self: flex-start;width: 50%;}#sk-container-id-10 div.sk-parallel-item:only-child::after {width: 0;}#sk-container-id-10 div.sk-dashed-wrapped {border: 1px dashed gray;margin: 0 0.4em 0.5em 0.4em;box-sizing: border-box;padding-bottom: 0.4em;background-color: white;}#sk-container-id-10 div.sk-label label {font-family: monospace;font-weight: bold;display: inline-block;line-height: 1.2em;}#sk-container-id-10 div.sk-label-container {text-align: center;}#sk-container-id-10 div.sk-container {/* jupyter's `normalize.less` sets `[hidden] { display: none; }` but bootstrap.min.css set `[hidden] { display: none !important; }` so we also need the `!important` here to be able to override the default hidden behavior on the sphinx rendered scikit-learn.org. See: https://github.com/scikit-learn/scikit-learn/issues/21755 */display: inline-block !important;position: relative;}#sk-container-id-10 div.sk-text-repr-fallback {display: none;}</style><div id=\"sk-container-id-10\" class=\"sk-top-container\"><div class=\"sk-text-repr-fallback\"><pre>GridSearchCV(cv=5, estimator=GradientBoostingClassifier(random_state=5),\n",
       "             n_jobs=-1,\n",
       "             param_grid={&#x27;learning_rate&#x27;: [0.1, 0.2, 0.4],\n",
       "                         &#x27;max_depth&#x27;: [1, 2, 3, 4],\n",
       "                         &#x27;n_estimators&#x27;: [50, 100, 200]},\n",
       "             scoring=&#x27;accuracy&#x27;)</pre><b>In a Jupyter environment, please rerun this cell to show the HTML representation or trust the notebook. <br />On GitHub, the HTML representation is unable to render, please try loading this page with nbviewer.org.</b></div><div class=\"sk-container\" hidden><div class=\"sk-item sk-dashed-wrapped\"><div class=\"sk-label-container\"><div class=\"sk-label sk-toggleable\"><input class=\"sk-toggleable__control sk-hidden--visually\" id=\"sk-estimator-id-20\" type=\"checkbox\" ><label for=\"sk-estimator-id-20\" class=\"sk-toggleable__label sk-toggleable__label-arrow\">GridSearchCV</label><div class=\"sk-toggleable__content\"><pre>GridSearchCV(cv=5, estimator=GradientBoostingClassifier(random_state=5),\n",
       "             n_jobs=-1,\n",
       "             param_grid={&#x27;learning_rate&#x27;: [0.1, 0.2, 0.4],\n",
       "                         &#x27;max_depth&#x27;: [1, 2, 3, 4],\n",
       "                         &#x27;n_estimators&#x27;: [50, 100, 200]},\n",
       "             scoring=&#x27;accuracy&#x27;)</pre></div></div></div><div class=\"sk-parallel\"><div class=\"sk-parallel-item\"><div class=\"sk-item\"><div class=\"sk-label-container\"><div class=\"sk-label sk-toggleable\"><input class=\"sk-toggleable__control sk-hidden--visually\" id=\"sk-estimator-id-21\" type=\"checkbox\" ><label for=\"sk-estimator-id-21\" class=\"sk-toggleable__label sk-toggleable__label-arrow\">estimator: GradientBoostingClassifier</label><div class=\"sk-toggleable__content\"><pre>GradientBoostingClassifier(random_state=5)</pre></div></div></div><div class=\"sk-serial\"><div class=\"sk-item\"><div class=\"sk-estimator sk-toggleable\"><input class=\"sk-toggleable__control sk-hidden--visually\" id=\"sk-estimator-id-22\" type=\"checkbox\" ><label for=\"sk-estimator-id-22\" class=\"sk-toggleable__label sk-toggleable__label-arrow\">GradientBoostingClassifier</label><div class=\"sk-toggleable__content\"><pre>GradientBoostingClassifier(random_state=5)</pre></div></div></div></div></div></div></div></div></div></div>"
      ],
      "text/plain": [
       "GridSearchCV(cv=5, estimator=GradientBoostingClassifier(random_state=5),\n",
       "             n_jobs=-1,\n",
       "             param_grid={'learning_rate': [0.1, 0.2, 0.4],\n",
       "                         'max_depth': [1, 2, 3, 4],\n",
       "                         'n_estimators': [50, 100, 200]},\n",
       "             scoring='accuracy')"
      ]
     },
     "execution_count": 84,
     "metadata": {},
     "output_type": "execute_result"
    }
   ],
   "source": [
    "# 1. 튜닝 매개변수 정의 \n",
    "params = {'n_estimators':[50,100,200],\n",
    "         'max_depth':[1,2,3,4],\n",
    "         'learning_rate':[0.1,0.2,0.4]}\n",
    "\n",
    "# 2. 모델 객체 생성 \n",
    "# random_state = 5\n",
    "model = GradientBoostingClassifier(random_state=5)\n",
    "\n",
    "# 3. 그리드서치 정의\n",
    "grid = GridSearchCV(model, params, cv=5, scoring= 'accuracy', n_jobs =-1)  \n",
    "\n",
    "# 4. 학습\n",
    "grid.fit(X_train, y_train)\n"
   ]
  },
  {
   "cell_type": "code",
   "execution_count": 88,
   "id": "55786351",
   "metadata": {},
   "outputs": [
    {
     "name": "stdout",
     "output_type": "stream",
     "text": [
      "Best Score: 0.9647332421340629\n",
      "Best Parameters: {'learning_rate': 0.2, 'max_depth': 1, 'n_estimators': 200}\n"
     ]
    }
   ],
   "source": [
    "# 파라미터 조합, 성능 확인 \n",
    "print(\"최적의 성능:\", grid.best_score_)\n",
    "print(\"최적의 파라미터 조합:\", grid.best_params_)"
   ]
  },
  {
   "cell_type": "code",
   "execution_count": 92,
   "id": "f4062926",
   "metadata": {
    "scrolled": true
   },
   "outputs": [
    {
     "data": {
      "text/html": [
       "<div>\n",
       "<style scoped>\n",
       "    .dataframe tbody tr th:only-of-type {\n",
       "        vertical-align: middle;\n",
       "    }\n",
       "\n",
       "    .dataframe tbody tr th {\n",
       "        vertical-align: top;\n",
       "    }\n",
       "\n",
       "    .dataframe thead th {\n",
       "        text-align: right;\n",
       "    }\n",
       "</style>\n",
       "<table border=\"1\" class=\"dataframe\">\n",
       "  <thead>\n",
       "    <tr style=\"text-align: right;\">\n",
       "      <th></th>\n",
       "      <th>importances</th>\n",
       "    </tr>\n",
       "  </thead>\n",
       "  <tbody>\n",
       "    <tr>\n",
       "      <th>worst concave points</th>\n",
       "      <td>0.359023</td>\n",
       "    </tr>\n",
       "    <tr>\n",
       "      <th>worst perimeter</th>\n",
       "      <td>0.304067</td>\n",
       "    </tr>\n",
       "    <tr>\n",
       "      <th>mean concave points</th>\n",
       "      <td>0.152384</td>\n",
       "    </tr>\n",
       "    <tr>\n",
       "      <th>worst area</th>\n",
       "      <td>0.106141</td>\n",
       "    </tr>\n",
       "    <tr>\n",
       "      <th>worst concavity</th>\n",
       "      <td>0.017978</td>\n",
       "    </tr>\n",
       "  </tbody>\n",
       "</table>\n",
       "</div>"
      ],
      "text/plain": [
       "                      importances\n",
       "worst concave points     0.359023\n",
       "worst perimeter          0.304067\n",
       "mean concave points      0.152384\n",
       "worst area               0.106141\n",
       "worst concavity          0.017978"
      ]
     },
     "execution_count": 92,
     "metadata": {},
     "output_type": "execute_result"
    }
   ],
   "source": [
    "# 최적의 모델 완성 후 특성 중요도 확인\n",
    "\n",
    "# 모델 완성 및 특성 중요도 확인\n",
    "gb_best  = GradientBoostingClassifier(n_estimators=200,\n",
    "                              learning_rate=0.2,\n",
    "                              max_depth =1,\n",
    "                              random_state= 5)\n",
    "\n",
    "# 학습\n",
    "gb_best.fit(X_train,y_train)\n",
    "\n",
    "\n",
    "gb_fi_df = pd.DataFrame(gb_best.feature_importances_,\n",
    "                       index = cancer_data.feature_names,\n",
    "                       columns = ['importances'])\n",
    "gb_fi_df.sort_values(by= 'importances', ascending= False).head()"
   ]
  },
  {
   "cell_type": "code",
   "execution_count": null,
   "id": "4dcbff45",
   "metadata": {},
   "outputs": [],
   "source": [
    "# 모델마다 중요하게 여기는 특성은 다르지만,\n",
    "# worst 컬럼에 대한 내용이 중요하게 여겨지고 있음"
   ]
  },
  {
   "cell_type": "markdown",
   "id": "da9cd84e",
   "metadata": {},
   "source": [
    "#### XGBoost 모델\n",
    "    - 결정 트리 기반의 앙상블 모델에서 각광받고 있는 모델 중 하나\n",
    "    - 분류에 있어서 일반적으로 다른 머신러닝 모델보다 성능이 좋은 모델\n",
    "    - gbm을 기반으로 하지만, early stopping(조기학습중단)을 통해서 과대적합을 방지하는 기능이 추가됨\n",
    "    - 분류와 회귀 모두 사용 가능"
   ]
  },
  {
   "cell_type": "code",
   "execution_count": 93,
   "id": "792c2edb",
   "metadata": {},
   "outputs": [
    {
     "name": "stdout",
     "output_type": "stream",
     "text": [
      "Collecting xgboost\n",
      "  Downloading xgboost-2.0.0-py3-none-win_amd64.whl (99.7 MB)\n",
      "                                              0.0/99.7 MB ? eta -:--:--\n",
      "                                              0.3/99.7 MB 6.8 MB/s eta 0:00:15\n",
      "                                              0.8/99.7 MB 8.2 MB/s eta 0:00:13\n",
      "                                              1.3/99.7 MB 9.3 MB/s eta 0:00:11\n",
      "                                              2.0/99.7 MB 10.4 MB/s eta 0:00:10\n",
      "     -                                        2.8/99.7 MB 11.9 MB/s eta 0:00:09\n",
      "     -                                        3.7/99.7 MB 13.2 MB/s eta 0:00:08\n",
      "     -                                        4.8/99.7 MB 14.5 MB/s eta 0:00:07\n",
      "     --                                       5.8/99.7 MB 15.6 MB/s eta 0:00:07\n",
      "     --                                       7.0/99.7 MB 16.7 MB/s eta 0:00:06\n",
      "     ---                                      8.2/99.7 MB 17.5 MB/s eta 0:00:06\n",
      "     ---                                      9.3/99.7 MB 18.1 MB/s eta 0:00:05\n",
      "     ----                                    10.5/99.7 MB 19.9 MB/s eta 0:00:05\n",
      "     ----                                    11.7/99.7 MB 21.9 MB/s eta 0:00:05\n",
      "     -----                                   12.9/99.7 MB 23.4 MB/s eta 0:00:04\n",
      "     -----                                   14.0/99.7 MB 24.2 MB/s eta 0:00:04\n",
      "     -----                                   15.2/99.7 MB 25.2 MB/s eta 0:00:04\n",
      "     ------                                  16.4/99.7 MB 26.2 MB/s eta 0:00:04\n",
      "     ------                                  17.6/99.7 MB 25.1 MB/s eta 0:00:04\n",
      "     -------                                 18.7/99.7 MB 25.1 MB/s eta 0:00:04\n",
      "     -------                                 19.9/99.7 MB 25.2 MB/s eta 0:00:04\n",
      "     --------                                21.1/99.7 MB 25.2 MB/s eta 0:00:04\n",
      "     --------                                22.3/99.7 MB 25.2 MB/s eta 0:00:04\n",
      "     ---------                               23.4/99.7 MB 25.2 MB/s eta 0:00:04\n",
      "     ---------                               24.7/99.7 MB 25.2 MB/s eta 0:00:03\n",
      "     ----------                              25.7/99.7 MB 24.2 MB/s eta 0:00:04\n",
      "     ----------                              26.6/99.7 MB 24.2 MB/s eta 0:00:04\n",
      "     ----------                              27.5/99.7 MB 23.4 MB/s eta 0:00:04\n",
      "     -----------                             28.5/99.7 MB 23.4 MB/s eta 0:00:04\n",
      "     -----------                             29.5/99.7 MB 22.6 MB/s eta 0:00:04\n",
      "     -----------                             30.6/99.7 MB 22.6 MB/s eta 0:00:04\n",
      "     ------------                            31.7/99.7 MB 22.6 MB/s eta 0:00:04\n",
      "     ------------                            32.7/99.7 MB 21.8 MB/s eta 0:00:04\n",
      "     -------------                           33.7/99.7 MB 21.8 MB/s eta 0:00:04\n",
      "     -------------                           34.8/99.7 MB 21.8 MB/s eta 0:00:03\n",
      "     --------------                          35.9/99.7 MB 21.8 MB/s eta 0:00:03\n",
      "     --------------                          37.0/99.7 MB 22.6 MB/s eta 0:00:03\n",
      "     --------------                          38.2/99.7 MB 23.4 MB/s eta 0:00:03\n",
      "     ---------------                         39.4/99.7 MB 23.4 MB/s eta 0:00:03\n",
      "     ---------------                         40.8/99.7 MB 24.2 MB/s eta 0:00:03\n",
      "     ----------------                        42.0/99.7 MB 24.2 MB/s eta 0:00:03\n",
      "     ----------------                        43.3/99.7 MB 25.2 MB/s eta 0:00:03\n",
      "     -----------------                       44.5/99.7 MB 25.1 MB/s eta 0:00:03\n",
      "     -----------------                       45.8/99.7 MB 26.2 MB/s eta 0:00:03\n",
      "     ------------------                      47.1/99.7 MB 27.3 MB/s eta 0:00:02\n",
      "     ------------------                      48.3/99.7 MB 26.2 MB/s eta 0:00:02\n",
      "     -------------------                     49.6/99.7 MB 28.4 MB/s eta 0:00:02\n",
      "     -------------------                     50.8/99.7 MB 27.3 MB/s eta 0:00:02\n",
      "     --------------------                    51.8/99.7 MB 26.2 MB/s eta 0:00:02\n",
      "     --------------------                    52.8/99.7 MB 26.2 MB/s eta 0:00:02\n",
      "     ---------------------                   53.9/99.7 MB 25.2 MB/s eta 0:00:02\n",
      "     ---------------------                   55.0/99.7 MB 25.2 MB/s eta 0:00:02\n",
      "     ---------------------                   56.1/99.7 MB 25.2 MB/s eta 0:00:02\n",
      "     ----------------------                  57.2/99.7 MB 24.2 MB/s eta 0:00:02\n",
      "     ----------------------                  58.3/99.7 MB 24.2 MB/s eta 0:00:02\n",
      "     -----------------------                 59.6/99.7 MB 24.3 MB/s eta 0:00:02\n",
      "     -----------------------                 60.8/99.7 MB 24.2 MB/s eta 0:00:02\n",
      "     ------------------------                62.0/99.7 MB 24.2 MB/s eta 0:00:02\n",
      "     ------------------------                63.3/99.7 MB 25.2 MB/s eta 0:00:02\n",
      "     -------------------------               64.6/99.7 MB 26.2 MB/s eta 0:00:02\n",
      "     -------------------------               65.9/99.7 MB 25.2 MB/s eta 0:00:02\n",
      "     --------------------------              67.2/99.7 MB 27.3 MB/s eta 0:00:02\n",
      "     --------------------------              68.5/99.7 MB 26.2 MB/s eta 0:00:02\n",
      "     ---------------------------             69.9/99.7 MB 27.3 MB/s eta 0:00:02\n",
      "     ---------------------------             71.3/99.7 MB 28.5 MB/s eta 0:00:01\n",
      "     ----------------------------            72.7/99.7 MB 29.7 MB/s eta 0:00:01\n",
      "     ----------------------------            74.1/99.7 MB 29.7 MB/s eta 0:00:01\n",
      "     -----------------------------           75.5/99.7 MB 29.7 MB/s eta 0:00:01\n",
      "     ------------------------------          76.8/99.7 MB 29.7 MB/s eta 0:00:01\n",
      "     ------------------------------          78.0/99.7 MB 29.7 MB/s eta 0:00:01\n",
      "     ------------------------------          79.2/99.7 MB 29.7 MB/s eta 0:00:01\n",
      "     -------------------------------         80.4/99.7 MB 28.5 MB/s eta 0:00:01\n",
      "     -------------------------------         81.4/99.7 MB 27.3 MB/s eta 0:00:01\n",
      "     --------------------------------        82.5/99.7 MB 27.3 MB/s eta 0:00:01\n",
      "     --------------------------------        83.6/99.7 MB 26.2 MB/s eta 0:00:01\n",
      "     ---------------------------------       84.7/99.7 MB 25.2 MB/s eta 0:00:01\n",
      "     ---------------------------------       85.7/99.7 MB 25.2 MB/s eta 0:00:01\n",
      "     ---------------------------------       86.8/99.7 MB 24.2 MB/s eta 0:00:01\n",
      "     ----------------------------------      87.9/99.7 MB 23.4 MB/s eta 0:00:01\n",
      "     ----------------------------------      89.0/99.7 MB 23.4 MB/s eta 0:00:01\n",
      "     -----------------------------------     90.1/99.7 MB 23.4 MB/s eta 0:00:01\n",
      "     -----------------------------------     91.3/99.7 MB 23.4 MB/s eta 0:00:01\n",
      "     ------------------------------------    92.4/99.7 MB 23.4 MB/s eta 0:00:01\n",
      "     ------------------------------------    93.5/99.7 MB 23.4 MB/s eta 0:00:01\n",
      "     ------------------------------------    94.6/99.7 MB 23.4 MB/s eta 0:00:01\n",
      "     -------------------------------------   95.7/99.7 MB 23.4 MB/s eta 0:00:01\n",
      "     -------------------------------------   96.7/99.7 MB 23.4 MB/s eta 0:00:01\n",
      "     --------------------------------------  97.5/99.7 MB 22.6 MB/s eta 0:00:01\n",
      "     --------------------------------------  98.5/99.7 MB 22.6 MB/s eta 0:00:01\n",
      "     --------------------------------------  99.5/99.7 MB 22.6 MB/s eta 0:00:01\n",
      "     --------------------------------------  99.7/99.7 MB 22.6 MB/s eta 0:00:01\n",
      "     --------------------------------------  99.7/99.7 MB 22.6 MB/s eta 0:00:01\n",
      "     --------------------------------------  99.7/99.7 MB 22.6 MB/s eta 0:00:01\n",
      "     --------------------------------------  99.7/99.7 MB 22.6 MB/s eta 0:00:01\n",
      "     --------------------------------------  99.7/99.7 MB 22.6 MB/s eta 0:00:01\n",
      "     --------------------------------------  99.7/99.7 MB 22.6 MB/s eta 0:00:01\n",
      "     --------------------------------------  99.7/99.7 MB 22.6 MB/s eta 0:00:01\n",
      "     --------------------------------------  99.7/99.7 MB 22.6 MB/s eta 0:00:01\n",
      "     --------------------------------------  99.7/99.7 MB 22.6 MB/s eta 0:00:01\n",
      "     --------------------------------------- 99.7/99.7 MB 10.7 MB/s eta 0:00:00\n",
      "Requirement already satisfied: numpy in c:\\users\\smhrd\\anaconda3\\lib\\site-packages (from xgboost) (1.24.3)\n",
      "Requirement already satisfied: scipy in c:\\users\\smhrd\\anaconda3\\lib\\site-packages (from xgboost) (1.10.1)\n",
      "Installing collected packages: xgboost\n",
      "Successfully installed xgboost-2.0.0\n"
     ]
    }
   ],
   "source": [
    "# jupyter 내부에서 설치 !pip ~\n",
    "# prompt 설치 가능 pip ~ \n",
    "!pip install xgboost"
   ]
  },
  {
   "cell_type": "code",
   "execution_count": 95,
   "id": "18dfdd16",
   "metadata": {},
   "outputs": [
    {
     "name": "stdout",
     "output_type": "stream",
     "text": [
      "예측결과: [0 1 1 1 1 0 1 1 1 1 1 1 0 1 1 1 1 1 1 1 0 1 1 1 1 1 1 0 0 0 0 0 0 0 1 1 0\n",
      " 1 1 0 1 1 1 0 1 1 0 0 1 0 1 1 1 1 1 0 0 0 1 0 0 0 1 1 1 1 1 1 1 0 1 0 1 1\n",
      " 1 1 0 1 0 0 0 1 0 0 0 1 0 1 0 0 0 0 1 1 0 0 1 1 1 1 1 0 1 1 0 0 1 0 1 0 1\n",
      " 0 0 0 1 1 0 1 0 1 1 1 0 1 0 1 0 1 1 0 1 1 1 1 1 0 1 1 1 1 1 1 1]\n",
      "훈련 정확도 1.0\n",
      "테스트 정확도 0.9790209790209791\n"
     ]
    }
   ],
   "source": [
    "# 임폴트 \n",
    "from xgboost import XGBClassifier\n",
    "\n",
    "# 객체 생성 \n",
    "xgb_model = XGBClassifier(random_state = 5)\n",
    "\n",
    "# 학습 \n",
    "xgb_model.fit(X_train, y_train)\n",
    "\n",
    "# 예측 \n",
    "pre = xgb_model.predict(X_test)\n",
    "print('예측결과:', pre)\n",
    "\n",
    "# 평가 (train, test)\n",
    "tr_acc = xgb_model.score(X_train, y_train)\n",
    "te_acc = xgb_model.score(X_test, y_test)\n",
    "print('훈련 정확도', tr_acc)\n",
    "print('테스트 정확도', te_acc)"
   ]
  }
 ],
 "metadata": {
  "kernelspec": {
   "display_name": "Python 3 (ipykernel)",
   "language": "python",
   "name": "python3"
  },
  "language_info": {
   "codemirror_mode": {
    "name": "ipython",
    "version": 3
   },
   "file_extension": ".py",
   "mimetype": "text/x-python",
   "name": "python",
   "nbconvert_exporter": "python",
   "pygments_lexer": "ipython3",
   "version": "3.11.3"
  }
 },
 "nbformat": 4,
 "nbformat_minor": 5
}
