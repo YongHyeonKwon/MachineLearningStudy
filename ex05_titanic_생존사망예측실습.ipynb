{
 "cells": [
  {
   "cell_type": "code",
   "execution_count": 173,
   "id": "a4a4ccb0",
   "metadata": {},
   "outputs": [],
   "source": [
    "# 환경셋팅\n",
    "import numpy as np\n",
    "import pandas as pd\n",
    "import matplotlib.pyplot as plt\n",
    "import seaborn as sns # 시각화 라이브러리"
   ]
  },
  {
   "cell_type": "markdown",
   "id": "0bbe4836",
   "metadata": {},
   "source": [
    "### 목표\n",
    " - 타이타닉 데이터를 학습해서 생존자/사망자를 예측해보자 \n",
    " - 머신러닝 전체 과정을 진행해보자 \n",
    " \n",
    "#### 1. 문제 정의\n",
    " - 생존/사망을 예측해보자 \n",
    " - kaggle 경진대회 높은 순위를 차지해보자 \n",
    " \n",
    "#### 2. 데이터 수집(불러와서 확인) "
   ]
  },
  {
   "cell_type": "markdown",
   "id": "4bbd940f",
   "metadata": {},
   "source": [
    "- q1. 타이타닉 train데이터와 test데이터를 변수 train, test에 저장하기 ( 단,passengerID 컬럼을 불러오면서 인덱스로 설정해서 불러오기)"
   ]
  },
  {
   "cell_type": "code",
   "execution_count": 174,
   "id": "542bf20b",
   "metadata": {
    "scrolled": true
   },
   "outputs": [
    {
     "data": {
      "text/html": [
       "<div>\n",
       "<style scoped>\n",
       "    .dataframe tbody tr th:only-of-type {\n",
       "        vertical-align: middle;\n",
       "    }\n",
       "\n",
       "    .dataframe tbody tr th {\n",
       "        vertical-align: top;\n",
       "    }\n",
       "\n",
       "    .dataframe thead th {\n",
       "        text-align: right;\n",
       "    }\n",
       "</style>\n",
       "<table border=\"1\" class=\"dataframe\">\n",
       "  <thead>\n",
       "    <tr style=\"text-align: right;\">\n",
       "      <th></th>\n",
       "      <th>Survived</th>\n",
       "      <th>Pclass</th>\n",
       "      <th>Name</th>\n",
       "      <th>Sex</th>\n",
       "      <th>Age</th>\n",
       "      <th>SibSp</th>\n",
       "      <th>Parch</th>\n",
       "      <th>Ticket</th>\n",
       "      <th>Fare</th>\n",
       "      <th>Cabin</th>\n",
       "      <th>Embarked</th>\n",
       "    </tr>\n",
       "    <tr>\n",
       "      <th>PassengerId</th>\n",
       "      <th></th>\n",
       "      <th></th>\n",
       "      <th></th>\n",
       "      <th></th>\n",
       "      <th></th>\n",
       "      <th></th>\n",
       "      <th></th>\n",
       "      <th></th>\n",
       "      <th></th>\n",
       "      <th></th>\n",
       "      <th></th>\n",
       "    </tr>\n",
       "  </thead>\n",
       "  <tbody>\n",
       "    <tr>\n",
       "      <th>1</th>\n",
       "      <td>0</td>\n",
       "      <td>3</td>\n",
       "      <td>Braund, Mr. Owen Harris</td>\n",
       "      <td>male</td>\n",
       "      <td>22.0</td>\n",
       "      <td>1</td>\n",
       "      <td>0</td>\n",
       "      <td>A/5 21171</td>\n",
       "      <td>7.2500</td>\n",
       "      <td>NaN</td>\n",
       "      <td>S</td>\n",
       "    </tr>\n",
       "    <tr>\n",
       "      <th>2</th>\n",
       "      <td>1</td>\n",
       "      <td>1</td>\n",
       "      <td>Cumings, Mrs. John Bradley (Florence Briggs Th...</td>\n",
       "      <td>female</td>\n",
       "      <td>38.0</td>\n",
       "      <td>1</td>\n",
       "      <td>0</td>\n",
       "      <td>PC 17599</td>\n",
       "      <td>71.2833</td>\n",
       "      <td>C85</td>\n",
       "      <td>C</td>\n",
       "    </tr>\n",
       "    <tr>\n",
       "      <th>3</th>\n",
       "      <td>1</td>\n",
       "      <td>3</td>\n",
       "      <td>Heikkinen, Miss. Laina</td>\n",
       "      <td>female</td>\n",
       "      <td>26.0</td>\n",
       "      <td>0</td>\n",
       "      <td>0</td>\n",
       "      <td>STON/O2. 3101282</td>\n",
       "      <td>7.9250</td>\n",
       "      <td>NaN</td>\n",
       "      <td>S</td>\n",
       "    </tr>\n",
       "    <tr>\n",
       "      <th>4</th>\n",
       "      <td>1</td>\n",
       "      <td>1</td>\n",
       "      <td>Futrelle, Mrs. Jacques Heath (Lily May Peel)</td>\n",
       "      <td>female</td>\n",
       "      <td>35.0</td>\n",
       "      <td>1</td>\n",
       "      <td>0</td>\n",
       "      <td>113803</td>\n",
       "      <td>53.1000</td>\n",
       "      <td>C123</td>\n",
       "      <td>S</td>\n",
       "    </tr>\n",
       "    <tr>\n",
       "      <th>5</th>\n",
       "      <td>0</td>\n",
       "      <td>3</td>\n",
       "      <td>Allen, Mr. William Henry</td>\n",
       "      <td>male</td>\n",
       "      <td>35.0</td>\n",
       "      <td>0</td>\n",
       "      <td>0</td>\n",
       "      <td>373450</td>\n",
       "      <td>8.0500</td>\n",
       "      <td>NaN</td>\n",
       "      <td>S</td>\n",
       "    </tr>\n",
       "  </tbody>\n",
       "</table>\n",
       "</div>"
      ],
      "text/plain": [
       "             Survived  Pclass  \\\n",
       "PassengerId                     \n",
       "1                   0       3   \n",
       "2                   1       1   \n",
       "3                   1       3   \n",
       "4                   1       1   \n",
       "5                   0       3   \n",
       "\n",
       "                                                          Name     Sex   Age  \\\n",
       "PassengerId                                                                    \n",
       "1                                      Braund, Mr. Owen Harris    male  22.0   \n",
       "2            Cumings, Mrs. John Bradley (Florence Briggs Th...  female  38.0   \n",
       "3                                       Heikkinen, Miss. Laina  female  26.0   \n",
       "4                 Futrelle, Mrs. Jacques Heath (Lily May Peel)  female  35.0   \n",
       "5                                     Allen, Mr. William Henry    male  35.0   \n",
       "\n",
       "             SibSp  Parch            Ticket     Fare Cabin Embarked  \n",
       "PassengerId                                                          \n",
       "1                1      0         A/5 21171   7.2500   NaN        S  \n",
       "2                1      0          PC 17599  71.2833   C85        C  \n",
       "3                0      0  STON/O2. 3101282   7.9250   NaN        S  \n",
       "4                1      0            113803  53.1000  C123        S  \n",
       "5                0      0            373450   8.0500   NaN        S  "
      ]
     },
     "execution_count": 174,
     "metadata": {},
     "output_type": "execute_result"
    }
   ],
   "source": [
    "# csv -> pd.read_csv()\n",
    "# 컬럼인걸 인덱스 설정하는 키워드\n",
    "train = pd.read_csv('./data/titanic/train.csv', index_col = 'PassengerId')\n",
    "test = pd.read_csv('./data/titanic/test.csv', index_col = 'PassengerId')\n",
    "train.head()"
   ]
  },
  {
   "cell_type": "code",
   "execution_count": 175,
   "id": "3adb4ade",
   "metadata": {},
   "outputs": [
    {
     "name": "stdout",
     "output_type": "stream",
     "text": [
      "훈련 데이터 크기: (891, 11)\n",
      "테스트 데이터 크기: (418, 10)\n"
     ]
    }
   ],
   "source": [
    "print('훈련 데이터 크기:', train.shape)\n",
    "print('테스트 데이터 크기:', test.shape)"
   ]
  },
  {
   "cell_type": "markdown",
   "id": "4ebb22ad",
   "metadata": {},
   "source": [
    "#### 3. 데이터 전처리 및 데이터 탐색"
   ]
  },
  {
   "cell_type": "code",
   "execution_count": 176,
   "id": "691f20d9",
   "metadata": {
    "scrolled": true
   },
   "outputs": [
    {
     "name": "stdout",
     "output_type": "stream",
     "text": [
      "<class 'pandas.core.frame.DataFrame'>\n",
      "Int64Index: 891 entries, 1 to 891\n",
      "Data columns (total 11 columns):\n",
      " #   Column    Non-Null Count  Dtype  \n",
      "---  ------    --------------  -----  \n",
      " 0   Survived  891 non-null    int64  \n",
      " 1   Pclass    891 non-null    int64  \n",
      " 2   Name      891 non-null    object \n",
      " 3   Sex       891 non-null    object \n",
      " 4   Age       714 non-null    float64\n",
      " 5   SibSp     891 non-null    int64  \n",
      " 6   Parch     891 non-null    int64  \n",
      " 7   Ticket    891 non-null    object \n",
      " 8   Fare      891 non-null    float64\n",
      " 9   Cabin     204 non-null    object \n",
      " 10  Embarked  889 non-null    object \n",
      "dtypes: float64(2), int64(4), object(5)\n",
      "memory usage: 83.5+ KB\n"
     ]
    }
   ],
   "source": [
    "# train - info\n",
    "train.info()\n",
    "# 결측치 있는 컬럼 o : Age, Cabin, Embarked\n",
    "# 데이터 타입 : 숫자(정수,실수), 문자열 \n",
    "# - 모델은 문제 데이터를 숫자인 것만 이해할 수 있음.\n",
    "# 문자 -> 숫자 : 인코딩(라벨인코딩, 원핫인코딩)"
   ]
  },
  {
   "cell_type": "code",
   "execution_count": 177,
   "id": "9c643c1c",
   "metadata": {},
   "outputs": [
    {
     "name": "stdout",
     "output_type": "stream",
     "text": [
      "<class 'pandas.core.frame.DataFrame'>\n",
      "Int64Index: 418 entries, 892 to 1309\n",
      "Data columns (total 10 columns):\n",
      " #   Column    Non-Null Count  Dtype  \n",
      "---  ------    --------------  -----  \n",
      " 0   Pclass    418 non-null    int64  \n",
      " 1   Name      418 non-null    object \n",
      " 2   Sex       418 non-null    object \n",
      " 3   Age       332 non-null    float64\n",
      " 4   SibSp     418 non-null    int64  \n",
      " 5   Parch     418 non-null    int64  \n",
      " 6   Ticket    418 non-null    object \n",
      " 7   Fare      417 non-null    float64\n",
      " 8   Cabin     91 non-null     object \n",
      " 9   Embarked  418 non-null    object \n",
      "dtypes: float64(2), int64(3), object(5)\n",
      "memory usage: 35.9+ KB\n"
     ]
    }
   ],
   "source": [
    "# test - info()\n",
    "test.info()\n",
    "# Survived x - 생존/사망 데이터가 없음 \n",
    "# y_test kaggle 이 알고있음 \n",
    "# 경진대회 데이터는 테스트 문제까지만 제공 \n",
    "# 결측치 컬럼 o : Age, Fare, Cabin\n",
    "# 데이터 타입: 숫자(정수,실수), 문자열"
   ]
  },
  {
   "cell_type": "code",
   "execution_count": 178,
   "id": "fdabcb0b",
   "metadata": {},
   "outputs": [
    {
     "data": {
      "text/html": [
       "<div>\n",
       "<style scoped>\n",
       "    .dataframe tbody tr th:only-of-type {\n",
       "        vertical-align: middle;\n",
       "    }\n",
       "\n",
       "    .dataframe tbody tr th {\n",
       "        vertical-align: top;\n",
       "    }\n",
       "\n",
       "    .dataframe thead th {\n",
       "        text-align: right;\n",
       "    }\n",
       "</style>\n",
       "<table border=\"1\" class=\"dataframe\">\n",
       "  <thead>\n",
       "    <tr style=\"text-align: right;\">\n",
       "      <th></th>\n",
       "      <th>Survived</th>\n",
       "      <th>Pclass</th>\n",
       "      <th>Name</th>\n",
       "      <th>Sex</th>\n",
       "      <th>Age</th>\n",
       "      <th>SibSp</th>\n",
       "      <th>Parch</th>\n",
       "      <th>Ticket</th>\n",
       "      <th>Fare</th>\n",
       "      <th>Cabin</th>\n",
       "      <th>Embarked</th>\n",
       "    </tr>\n",
       "    <tr>\n",
       "      <th>PassengerId</th>\n",
       "      <th></th>\n",
       "      <th></th>\n",
       "      <th></th>\n",
       "      <th></th>\n",
       "      <th></th>\n",
       "      <th></th>\n",
       "      <th></th>\n",
       "      <th></th>\n",
       "      <th></th>\n",
       "      <th></th>\n",
       "      <th></th>\n",
       "    </tr>\n",
       "  </thead>\n",
       "  <tbody>\n",
       "    <tr>\n",
       "      <th>1</th>\n",
       "      <td>0</td>\n",
       "      <td>3</td>\n",
       "      <td>Braund, Mr. Owen Harris</td>\n",
       "      <td>male</td>\n",
       "      <td>22.0</td>\n",
       "      <td>1</td>\n",
       "      <td>0</td>\n",
       "      <td>A/5 21171</td>\n",
       "      <td>7.25</td>\n",
       "      <td>NaN</td>\n",
       "      <td>S</td>\n",
       "    </tr>\n",
       "  </tbody>\n",
       "</table>\n",
       "</div>"
      ],
      "text/plain": [
       "             Survived  Pclass                     Name   Sex   Age  SibSp  \\\n",
       "PassengerId                                                                 \n",
       "1                   0       3  Braund, Mr. Owen Harris  male  22.0      1   \n",
       "\n",
       "             Parch     Ticket  Fare Cabin Embarked  \n",
       "PassengerId                                         \n",
       "1                0  A/5 21171  7.25   NaN        S  "
      ]
     },
     "execution_count": 178,
     "metadata": {},
     "output_type": "execute_result"
    }
   ],
   "source": [
    "train.head(1)"
   ]
  },
  {
   "cell_type": "code",
   "execution_count": 179,
   "id": "23c212f9",
   "metadata": {},
   "outputs": [
    {
     "data": {
      "text/plain": [
       "Index(['Survived', 'Pclass', 'Name', 'Sex', 'Age', 'SibSp', 'Parch', 'Ticket',\n",
       "       'Fare', 'Cabin', 'Embarked'],\n",
       "      dtype='object')"
      ]
     },
     "execution_count": 179,
     "metadata": {},
     "output_type": "execute_result"
    }
   ],
   "source": [
    "# 컬럼 정보 정리 \n",
    "train.columns\n",
    "# 'Survived', 생존/사망 결과 값이 담긴 컬럼(0:사망, 1:생존)\n",
    "# 'Pclass', 승객 등급(1:상위층,2:중상위층,3:하위층)\n",
    "# 'Name'\n",
    "# 'Sex'\n",
    "# 'Age'\n",
    "# 'SibSp', 형제자매/배우자의 수 (같이 탑승한)\n",
    "# 'Parch'\n",
    "# 'Ticket', 티켓 번호\n",
    "# 'Fare' 등급\n",
    "# 'Cabin'\n",
    "# 'Embarked', 승선지"
   ]
  },
  {
   "cell_type": "markdown",
   "id": "a992813e",
   "metadata": {},
   "source": [
    "* Available features *\n",
    "PassengerId - Passenger ID - Number  \n",
    "Survived - Survived - Bool  \n",
    "Pclass - Ticket class - available 1 = 1st, 2 = 2nd, 3 = 3rd - Number  \n",
    "Name - First name, Last Name and optional Title - String  \n",
    "Sex - Sex of passenger - available: male and female - String  \n",
    "Age - Age in years - Number  \n",
    "SibSp - of siblings / spouses aboard the Titanic - Number  \n",
    "Parch - of parents / children aboard the Titanic - Number  \n",
    "Ticket - Ticket Id - String  \n",
    "Fare - Passenger fare / Ticker price - Number  \n",
    "Cabin - Cabin number - String  \n",
    "Embarked - Port of Embarkation - available C = Cherbourg, Q = Queenstown, S = Southampton - String  "
   ]
  },
  {
   "cell_type": "markdown",
   "id": "a9da3ba0",
   "metadata": {},
   "source": [
    "- train: Embarked 컬럼 결측치 채우기"
   ]
  },
  {
   "cell_type": "code",
   "execution_count": 180,
   "id": "3242d22c",
   "metadata": {
    "scrolled": true
   },
   "outputs": [
    {
     "data": {
      "text/html": [
       "<div>\n",
       "<style scoped>\n",
       "    .dataframe tbody tr th:only-of-type {\n",
       "        vertical-align: middle;\n",
       "    }\n",
       "\n",
       "    .dataframe tbody tr th {\n",
       "        vertical-align: top;\n",
       "    }\n",
       "\n",
       "    .dataframe thead th {\n",
       "        text-align: right;\n",
       "    }\n",
       "</style>\n",
       "<table border=\"1\" class=\"dataframe\">\n",
       "  <thead>\n",
       "    <tr style=\"text-align: right;\">\n",
       "      <th></th>\n",
       "      <th>Survived</th>\n",
       "      <th>Pclass</th>\n",
       "      <th>Name</th>\n",
       "      <th>Sex</th>\n",
       "      <th>Age</th>\n",
       "      <th>SibSp</th>\n",
       "      <th>Parch</th>\n",
       "      <th>Ticket</th>\n",
       "      <th>Fare</th>\n",
       "      <th>Cabin</th>\n",
       "      <th>Embarked</th>\n",
       "    </tr>\n",
       "    <tr>\n",
       "      <th>PassengerId</th>\n",
       "      <th></th>\n",
       "      <th></th>\n",
       "      <th></th>\n",
       "      <th></th>\n",
       "      <th></th>\n",
       "      <th></th>\n",
       "      <th></th>\n",
       "      <th></th>\n",
       "      <th></th>\n",
       "      <th></th>\n",
       "      <th></th>\n",
       "    </tr>\n",
       "  </thead>\n",
       "  <tbody>\n",
       "    <tr>\n",
       "      <th>62</th>\n",
       "      <td>1</td>\n",
       "      <td>1</td>\n",
       "      <td>Icard, Miss. Amelie</td>\n",
       "      <td>female</td>\n",
       "      <td>38.0</td>\n",
       "      <td>0</td>\n",
       "      <td>0</td>\n",
       "      <td>113572</td>\n",
       "      <td>80.0</td>\n",
       "      <td>B28</td>\n",
       "      <td>NaN</td>\n",
       "    </tr>\n",
       "    <tr>\n",
       "      <th>830</th>\n",
       "      <td>1</td>\n",
       "      <td>1</td>\n",
       "      <td>Stone, Mrs. George Nelson (Martha Evelyn)</td>\n",
       "      <td>female</td>\n",
       "      <td>62.0</td>\n",
       "      <td>0</td>\n",
       "      <td>0</td>\n",
       "      <td>113572</td>\n",
       "      <td>80.0</td>\n",
       "      <td>B28</td>\n",
       "      <td>NaN</td>\n",
       "    </tr>\n",
       "  </tbody>\n",
       "</table>\n",
       "</div>"
      ],
      "text/plain": [
       "             Survived  Pclass                                       Name  \\\n",
       "PassengerId                                                                \n",
       "62                  1       1                        Icard, Miss. Amelie   \n",
       "830                 1       1  Stone, Mrs. George Nelson (Martha Evelyn)   \n",
       "\n",
       "                Sex   Age  SibSp  Parch  Ticket  Fare Cabin Embarked  \n",
       "PassengerId                                                           \n",
       "62           female  38.0      0      0  113572  80.0   B28      NaN  \n",
       "830          female  62.0      0      0  113572  80.0   B28      NaN  "
      ]
     },
     "execution_count": 180,
     "metadata": {},
     "output_type": "execute_result"
    }
   ],
   "source": [
    "# 데이터 확인 -> train 기준으로 확인 \n",
    "# 왜? 종은 모델 만들기 위해서, 일반화된 모델을 만들기 위해서 \n",
    "# 학습 시키는 데이터 -> train\n",
    "# train 에서 Embarked 컬럼 인덱싱 => S,C,Q 몇 개씩 있는지 확인 \n",
    "train['Embarked'].value_counts()\n",
    "# train.loc[:, 'Embarked']\n",
    "# train.iloc[:,-1]\n",
    "# train['Embarked'] 결측치가 몇 개 있는지? 2개\n",
    "train['Embarked'].isnull().sum()\n",
    "# train['Embarked'] 결측치가 있는 데이터 출력해보기 \n",
    "train[train['Embarked'].isnull()]"
   ]
  },
  {
   "cell_type": "code",
   "execution_count": 181,
   "id": "5edc8f0a",
   "metadata": {},
   "outputs": [],
   "source": [
    "# 두사람의 데이터가 서로 비슷 \n",
    "# 같은 승선항에서 탔을 것이다 가정 \n",
    "# 사람이 가장 많이 탑승한 장소의 승선항 값으로 채워보기 \n",
    "# 1. 하나씩 인덱싱 접근 train.loc[62,'Embarked'] = 'S'\n",
    "# fillna(값) : 비어 있다면 값으로 대체하는 함수 \n",
    "train['Embarked'] = train['Embarked'].fillna('S')"
   ]
  },
  {
   "cell_type": "code",
   "execution_count": 182,
   "id": "be73f3f9",
   "metadata": {},
   "outputs": [
    {
     "data": {
      "text/plain": [
       "0"
      ]
     },
     "execution_count": 182,
     "metadata": {},
     "output_type": "execute_result"
    }
   ],
   "source": [
    "train['Embarked'].isnull().sum()"
   ]
  },
  {
   "cell_type": "markdown",
   "id": "56eab14c",
   "metadata": {},
   "source": [
    "- test: Fare 컬럼 결측치 채우기 "
   ]
  },
  {
   "cell_type": "code",
   "execution_count": 183,
   "id": "9e504dc3",
   "metadata": {},
   "outputs": [
    {
     "name": "stderr",
     "output_type": "stream",
     "text": [
      "C:\\Users\\smhrd\\AppData\\Local\\Temp\\ipykernel_18536\\3593590869.py:7: FutureWarning: The default value of numeric_only in DataFrame.corr is deprecated. In a future version, it will default to False. Select only valid columns or specify the value of numeric_only to silence this warning.\n",
      "  train.corr() # 문자열로 된 컬럼 포함 -> 상관계수 x\n"
     ]
    },
    {
     "data": {
      "text/html": [
       "<div>\n",
       "<style scoped>\n",
       "    .dataframe tbody tr th:only-of-type {\n",
       "        vertical-align: middle;\n",
       "    }\n",
       "\n",
       "    .dataframe tbody tr th {\n",
       "        vertical-align: top;\n",
       "    }\n",
       "\n",
       "    .dataframe thead th {\n",
       "        text-align: right;\n",
       "    }\n",
       "</style>\n",
       "<table border=\"1\" class=\"dataframe\">\n",
       "  <thead>\n",
       "    <tr style=\"text-align: right;\">\n",
       "      <th></th>\n",
       "      <th>Survived</th>\n",
       "      <th>Pclass</th>\n",
       "      <th>Age</th>\n",
       "      <th>SibSp</th>\n",
       "      <th>Parch</th>\n",
       "      <th>Fare</th>\n",
       "    </tr>\n",
       "  </thead>\n",
       "  <tbody>\n",
       "    <tr>\n",
       "      <th>Survived</th>\n",
       "      <td>1.000000</td>\n",
       "      <td>-0.338481</td>\n",
       "      <td>-0.077221</td>\n",
       "      <td>-0.035322</td>\n",
       "      <td>0.081629</td>\n",
       "      <td>0.257307</td>\n",
       "    </tr>\n",
       "    <tr>\n",
       "      <th>Pclass</th>\n",
       "      <td>-0.338481</td>\n",
       "      <td>1.000000</td>\n",
       "      <td>-0.369226</td>\n",
       "      <td>0.083081</td>\n",
       "      <td>0.018443</td>\n",
       "      <td>-0.549500</td>\n",
       "    </tr>\n",
       "    <tr>\n",
       "      <th>Age</th>\n",
       "      <td>-0.077221</td>\n",
       "      <td>-0.369226</td>\n",
       "      <td>1.000000</td>\n",
       "      <td>-0.308247</td>\n",
       "      <td>-0.189119</td>\n",
       "      <td>0.096067</td>\n",
       "    </tr>\n",
       "    <tr>\n",
       "      <th>SibSp</th>\n",
       "      <td>-0.035322</td>\n",
       "      <td>0.083081</td>\n",
       "      <td>-0.308247</td>\n",
       "      <td>1.000000</td>\n",
       "      <td>0.414838</td>\n",
       "      <td>0.159651</td>\n",
       "    </tr>\n",
       "    <tr>\n",
       "      <th>Parch</th>\n",
       "      <td>0.081629</td>\n",
       "      <td>0.018443</td>\n",
       "      <td>-0.189119</td>\n",
       "      <td>0.414838</td>\n",
       "      <td>1.000000</td>\n",
       "      <td>0.216225</td>\n",
       "    </tr>\n",
       "    <tr>\n",
       "      <th>Fare</th>\n",
       "      <td>0.257307</td>\n",
       "      <td>-0.549500</td>\n",
       "      <td>0.096067</td>\n",
       "      <td>0.159651</td>\n",
       "      <td>0.216225</td>\n",
       "      <td>1.000000</td>\n",
       "    </tr>\n",
       "  </tbody>\n",
       "</table>\n",
       "</div>"
      ],
      "text/plain": [
       "          Survived    Pclass       Age     SibSp     Parch      Fare\n",
       "Survived  1.000000 -0.338481 -0.077221 -0.035322  0.081629  0.257307\n",
       "Pclass   -0.338481  1.000000 -0.369226  0.083081  0.018443 -0.549500\n",
       "Age      -0.077221 -0.369226  1.000000 -0.308247 -0.189119  0.096067\n",
       "SibSp    -0.035322  0.083081 -0.308247  1.000000  0.414838  0.159651\n",
       "Parch     0.081629  0.018443 -0.189119  0.414838  1.000000  0.216225\n",
       "Fare      0.257307 -0.549500  0.096067  0.159651  0.216225  1.000000"
      ]
     },
     "execution_count": 183,
     "metadata": {},
     "output_type": "execute_result"
    }
   ],
   "source": [
    "# test 데이터 Fare 인덱싱 후 결측치가 존재하는 행 출력 \n",
    "# isnull(), 불리언 인덱싱\n",
    "test[test['Fare'].isnull()] \n",
    "# pclass 에 연관되지 않았을까?\n",
    "# 성별에 연관되지 않았을까?\n",
    "# iris 참고\n",
    "train.corr() # 문자열로 된 컬럼 포함 -> 상관계수 x\n",
    "# Fare컬럼과 연관이 있는 컬럼은 뭘까? Pclass\n",
    "# -1 ~ 1 표현되는 상관계수\n",
    "# -1, +1 가까울수록 상관이 어느정도 높음\n",
    "# 0 가까울수록 상대적으로 상관관계가 덜함(적음)"
   ]
  },
  {
   "cell_type": "code",
   "execution_count": 184,
   "id": "ff1a7971",
   "metadata": {},
   "outputs": [
    {
     "data": {
      "text/plain": [
       "count    891.000000\n",
       "mean      32.204208\n",
       "std       49.693429\n",
       "min        0.000000\n",
       "25%        7.910400\n",
       "50%       14.454200\n",
       "75%       31.000000\n",
       "max      512.329200\n",
       "Name: Fare, dtype: float64"
      ]
     },
     "execution_count": 184,
     "metadata": {},
     "output_type": "execute_result"
    }
   ],
   "source": [
    "# train Fare 컬럼 기술통계량 확인하기 \n",
    "# describe()\n",
    "# 중앙값, 평균값을 대표값을 선택할건지 확인 \n",
    "train['Fare'].describe() # 중앙값을 대표값으로 선택 "
   ]
  },
  {
   "attachments": {
    "image.png": {
     "image/png": "[encoded data removed]"
    }
   },
   "cell_type": "markdown",
   "id": "b5d7e499",
   "metadata": {},
   "source": [
    "![image.png](attachment:image.png)"
   ]
  },
  {
   "cell_type": "code",
   "execution_count": 185,
   "id": "d60bf78f",
   "metadata": {},
   "outputs": [
    {
     "data": {
      "text/plain": [
       "0"
      ]
     },
     "execution_count": 185,
     "metadata": {},
     "output_type": "execute_result"
    }
   ],
   "source": [
    "# Pclass, Sex, -> Fare 중앙, 평균 값으로 결측치를 대체해보자 \n",
    "# 1, female -> Fare 중앙값, 평균값을 확인하고 해당 값으로 채워보자 \n",
    "# 1, male -> Fare 중앙값, 평균값\n",
    "# 3, 남성 -> Fare 중앙값, 평균값을 확인해서 결측치 처리해야함\n",
    "# test['Fare'] 3등급, 남성 중앙값\n",
    "# train 데이터를 기준으로 승객 등급, 성별 그룹핑(groupby)\n",
    "# 중앙값 median()\n",
    "train[['Pclass', 'Sex', 'Fare']].groupby(['Pclass','Sex']).median()\n",
    "\n",
    "# test['Fare'] 결측치 채워주기 7.92500\n",
    "# 1. 인덱싱 2. fillna\n",
    "test['Fare'] = test['Fare'].fillna(7.92500)\n",
    "test['Fare'].isnull().sum() # 처리 확인"
   ]
  },
  {
   "cell_type": "code",
   "execution_count": 186,
   "id": "749856b2",
   "metadata": {},
   "outputs": [
    {
     "data": {
      "text/html": [
       "<div>\n",
       "<style scoped>\n",
       "    .dataframe tbody tr th:only-of-type {\n",
       "        vertical-align: middle;\n",
       "    }\n",
       "\n",
       "    .dataframe tbody tr th {\n",
       "        vertical-align: top;\n",
       "    }\n",
       "\n",
       "    .dataframe thead th {\n",
       "        text-align: right;\n",
       "    }\n",
       "</style>\n",
       "<table border=\"1\" class=\"dataframe\">\n",
       "  <thead>\n",
       "    <tr style=\"text-align: right;\">\n",
       "      <th></th>\n",
       "      <th>Pclass</th>\n",
       "      <th>Name</th>\n",
       "      <th>Sex</th>\n",
       "      <th>Age</th>\n",
       "      <th>SibSp</th>\n",
       "      <th>Parch</th>\n",
       "      <th>Ticket</th>\n",
       "      <th>Fare</th>\n",
       "      <th>Cabin</th>\n",
       "      <th>Embarked</th>\n",
       "    </tr>\n",
       "    <tr>\n",
       "      <th>PassengerId</th>\n",
       "      <th></th>\n",
       "      <th></th>\n",
       "      <th></th>\n",
       "      <th></th>\n",
       "      <th></th>\n",
       "      <th></th>\n",
       "      <th></th>\n",
       "      <th></th>\n",
       "      <th></th>\n",
       "      <th></th>\n",
       "    </tr>\n",
       "  </thead>\n",
       "  <tbody>\n",
       "  </tbody>\n",
       "</table>\n",
       "</div>"
      ],
      "text/plain": [
       "Empty DataFrame\n",
       "Columns: [Pclass, Name, Sex, Age, SibSp, Parch, Ticket, Fare, Cabin, Embarked]\n",
       "Index: []"
      ]
     },
     "execution_count": 186,
     "metadata": {},
     "output_type": "execute_result"
    }
   ],
   "source": [
    "test[test['Fare'].isnull()]"
   ]
  },
  {
   "cell_type": "markdown",
   "id": "6fd63773",
   "metadata": {},
   "source": [
    "- Age 결측치 채우기 \n",
    "    - train, test 모두 처리 \n",
    "    - 나이의 평균, 중앙값으로 결측치를 채워보기 \n",
    "    - 다른 컬럼과의 상관관계를 이용하여 결측치를 채워보기 "
   ]
  },
  {
   "cell_type": "code",
   "execution_count": 187,
   "id": "9c9facd9",
   "metadata": {},
   "outputs": [
    {
     "data": {
      "text/plain": [
       "count    714.000000\n",
       "mean      29.699118\n",
       "std       14.526497\n",
       "min        0.420000\n",
       "25%       20.125000\n",
       "50%       28.000000\n",
       "75%       38.000000\n",
       "max       80.000000\n",
       "Name: Age, dtype: float64"
      ]
     },
     "execution_count": 187,
     "metadata": {},
     "output_type": "execute_result"
    }
   ],
   "source": [
    "# 기술 통계량\n",
    "# 중앙값 vs 평균값? 평균값(mean)\n",
    "train['Age'].describe()"
   ]
  },
  {
   "cell_type": "code",
   "execution_count": 188,
   "id": "aca36d7a",
   "metadata": {},
   "outputs": [
    {
     "name": "stderr",
     "output_type": "stream",
     "text": [
      "C:\\Users\\smhrd\\AppData\\Local\\Temp\\ipykernel_18536\\3414887632.py:2: FutureWarning: The default value of numeric_only in DataFrame.corr is deprecated. In a future version, it will default to False. Select only valid columns or specify the value of numeric_only to silence this warning.\n",
      "  train.corr()['Age'].abs().sort_values(ascending = False)\n"
     ]
    },
    {
     "data": {
      "text/plain": [
       "Age         1.000000\n",
       "Pclass      0.369226\n",
       "SibSp       0.308247\n",
       "Parch       0.189119\n",
       "Fare        0.096067\n",
       "Survived    0.077221\n",
       "Name: Age, dtype: float64"
      ]
     },
     "execution_count": 188,
     "metadata": {},
     "output_type": "execute_result"
    }
   ],
   "source": [
    "# Age 컬럼과 상관관계가 높은 컬럼 찾아보기  ? Pclass\n",
    "train.corr()['Age'].abs().sort_values(ascending = False)"
   ]
  },
  {
   "cell_type": "code",
   "execution_count": 189,
   "id": "a7f5c3b3",
   "metadata": {
    "scrolled": true
   },
   "outputs": [
    {
     "data": {
      "text/plain": [
       "Age    34.611765\n",
       "Name: (1, female), dtype: float64"
      ]
     },
     "execution_count": 189,
     "metadata": {},
     "output_type": "execute_result"
    }
   ],
   "source": [
    "# Pclass, Sex, Age 컬럼의 평균값 출력해보기 \n",
    "# 1 - female , age 평균 \n",
    "# 1 - malem, age 평균\n",
    "gb1 = train[['Pclass', 'Sex', 'Age']].groupby(['Pclass','Sex']).mean()\n",
    "gb1\n",
    "\n",
    "# gb1 3등급, male 나이 평균값 접근해보기 \n",
    "# 중복인덱스(멀티인덱스) 접근 방법: gb1.loc[(3, 'male')]\n",
    "gb1.loc[(3,'male')]\n",
    "\n",
    "# 1등급 여성 나이 평균 출력해보기 \n",
    "gb1.loc[(1, 'female')]"
   ]
  },
  {
   "cell_type": "code",
   "execution_count": 195,
   "id": "2731d96a",
   "metadata": {
    "scrolled": true
   },
   "outputs": [
    {
     "data": {
      "text/plain": [
       "0"
      ]
     },
     "execution_count": 195,
     "metadata": {},
     "output_type": "execute_result"
    }
   ],
   "source": [
    "# train, test\n",
    "train[train['Age'].isnull()]\n",
    "# 결측치 채우기 위해서 각 승객의 등급, 성별을 확인한 후 Age 평균값을 인덱싱하여 채움\n",
    "# 판다스객체.apply(나이결측치처리기능)\n",
    "def prepro_age(row):\n",
    "    # 만약 나이가 결측치라면 값을 가져오고 \n",
    "    # row 1사람의 정보\n",
    "    if np.isnan(row['Age']):\n",
    "        return gb1.loc[(row['Pclass'], row['Sex'])]\n",
    "    # 만약 나이가 결측치가 아니라면 원래 나이값을 그대로 사용하자\n",
    "    else:\n",
    "        return row['Age']\n",
    "train['Age'] = train.apply(prepro_age, axis = 1)\n",
    "train['Age'].isnull().sum()\n",
    "\n",
    "# 1 한사람의 대한 데이터가 row\n",
    "# 0 컬럼 하나가 row에 처리하는 단위로 들어감\n",
    "# test['Age'] 컬럼도 격측치 처리 , train(gb1) 그대로 사용"
   ]
  },
  {
   "cell_type": "code",
   "execution_count": 198,
   "id": "48957b67",
   "metadata": {},
   "outputs": [],
   "source": [
    "test['Age'] = test.apply(prepro_age, axis = 1)\n",
    "test['Age'].isnull().sum()\n",
    "train['Age'] = train['Age'].astype('int64')\n",
    "test['Age'] = test['Age'].astype('int64')\n",
    "# run all"
   ]
  },
  {
   "cell_type": "markdown",
   "id": "30a4f7f3",
   "metadata": {},
   "source": [
    "- train, test: Cabin(객실번호) 채우기"
   ]
  },
  {
   "cell_type": "code",
   "execution_count": 199,
   "id": "709c2e5f",
   "metadata": {
    "scrolled": true
   },
   "outputs": [
    {
     "data": {
      "text/plain": [
       "687"
      ]
     },
     "execution_count": 199,
     "metadata": {},
     "output_type": "execute_result"
    }
   ],
   "source": [
    "# train['Cabin'] 결측치 몇 개 있는지?\n",
    "train['Cabin'].isnull().sum() # 절반 이상이 결측치"
   ]
  },
  {
   "cell_type": "code",
   "execution_count": 200,
   "id": "f711fe81",
   "metadata": {},
   "outputs": [],
   "source": [
    "# 중복없이 값 확인 \n",
    "# unique()\n",
    "train['Cabin'].unique()\n",
    "# 층+방번호 -> C85\n",
    "# 결측치에다가 임의로 'M' 값으로 채워보기 \n",
    "# fillna()\n",
    "train['Deck'] = train['Cabin'].fillna('M')\n",
    "test['Deck'] = test['Cabin'].fillna('M')"
   ]
  },
  {
   "cell_type": "code",
   "execution_count": 201,
   "id": "df2df448",
   "metadata": {},
   "outputs": [],
   "source": [
    "# Deck 컬럼에서 맨 첫글자 알파벳만 추출하기 \n",
    "# train['Deck'][2][0]\n",
    "train['Deck'] = train['Deck'].str[0]\n",
    "test['Deck'] = test['Deck'].str[0]"
   ]
  },
  {
   "cell_type": "code",
   "execution_count": 202,
   "id": "ffbcfbd7",
   "metadata": {},
   "outputs": [],
   "source": [
    "# Cabin 컬럼 삭제 \n",
    "# train, test\n",
    "# 대상.drop('삭제할이름', axis = 1)\n",
    "train.drop('Cabin', axis = 1, inplace = True)\n",
    "test.drop('Cabin', axis = 1, inplace = True)"
   ]
  },
  {
   "cell_type": "code",
   "execution_count": 203,
   "id": "93161ea7",
   "metadata": {},
   "outputs": [
    {
     "name": "stdout",
     "output_type": "stream",
     "text": [
      "<class 'pandas.core.frame.DataFrame'>\n",
      "Int64Index: 891 entries, 1 to 891\n",
      "Data columns (total 11 columns):\n",
      " #   Column    Non-Null Count  Dtype  \n",
      "---  ------    --------------  -----  \n",
      " 0   Survived  891 non-null    int64  \n",
      " 1   Pclass    891 non-null    int64  \n",
      " 2   Name      891 non-null    object \n",
      " 3   Sex       891 non-null    object \n",
      " 4   Age       891 non-null    int64  \n",
      " 5   SibSp     891 non-null    int64  \n",
      " 6   Parch     891 non-null    int64  \n",
      " 7   Ticket    891 non-null    object \n",
      " 8   Fare      891 non-null    float64\n",
      " 9   Embarked  891 non-null    object \n",
      " 10  Deck      891 non-null    object \n",
      "dtypes: float64(1), int64(5), object(5)\n",
      "memory usage: 115.8+ KB\n"
     ]
    }
   ],
   "source": [
    "# 결과 확인 \n",
    "train.info()"
   ]
  },
  {
   "cell_type": "markdown",
   "id": "9b7bca7d",
   "metadata": {},
   "source": [
    "#### 데이터 탐색"
   ]
  },
  {
   "cell_type": "code",
   "execution_count": 204,
   "id": "128a8bda",
   "metadata": {},
   "outputs": [
    {
     "data": {
      "image/png": "[encoded data removed]",
      "text/plain": [
       "<Figure size 600x300 with 1 Axes>"
      ]
     },
     "metadata": {},
     "output_type": "display_data"
    }
   ],
   "source": [
    "# 'M' -> Deck\n",
    "# Deck과 Survived 컬럼 연관성 확인하기 \n",
    "# 막대그래프 활용 \n",
    "# train -> 학습에 영향을 주는 데이터 -> 데이터 탐색 train 기준으로 함 \n",
    "plt.figure(figsize=(6,3))\n",
    "sns. countplot(data = train, x = 'Deck', hue = 'Survived')\n",
    "plt.show()"
   ]
  },
  {
   "cell_type": "code",
   "execution_count": 205,
   "id": "1c0b5875",
   "metadata": {},
   "outputs": [],
   "source": [
    "# M에서 상대적으로 사람이 많이 사망함 \n",
    "# survived 영향을 주지는 않을까?"
   ]
  },
  {
   "cell_type": "code",
   "execution_count": 206,
   "id": "fc91ea1c",
   "metadata": {
    "scrolled": true
   },
   "outputs": [
    {
     "data": {
      "image/png": "[encoded data removed]",
      "text/plain": [
       "<Figure size 600x300 with 1 Axes>"
      ]
     },
     "metadata": {},
     "output_type": "display_data"
    }
   ],
   "source": [
    "# Pclass와 Survived 시각화 \n",
    "# countplot\n",
    "# 생존/사망 의미 파악해보기 \n",
    "plt.figure(figsize=(6,3))\n",
    "sns.countplot(data = train, x = \"Pclass\", hue = \"Survived\")\n",
    "plt.show()"
   ]
  },
  {
   "cell_type": "code",
   "execution_count": 207,
   "id": "27b94fee",
   "metadata": {},
   "outputs": [],
   "source": [
    "# 1등급 - 비교적 생존율 높음 \n",
    "# 2등급 - 사망율이 조금 높음\n",
    "# 3등급 - 사망율이 월등히 높음 "
   ]
  },
  {
   "cell_type": "code",
   "execution_count": 208,
   "id": "177465f9",
   "metadata": {},
   "outputs": [
    {
     "data": {
      "image/png": "[encoded data removed]",
      "text/plain": [
       "<Figure size 600x300 with 1 Axes>"
      ]
     },
     "metadata": {},
     "output_type": "display_data"
    }
   ],
   "source": [
    "# Deck과 Pclass 연관지어서 시각화 \n",
    "# X - Deck ,\n",
    "# hue = Pclass\n",
    "plt.figure(figsize=(6,3))\n",
    "sns.countplot(data = train, x = \"Deck\", hue = \"Pclass\")\n",
    "plt.show()"
   ]
  },
  {
   "cell_type": "code",
   "execution_count": 209,
   "id": "bb0d68cb",
   "metadata": {},
   "outputs": [],
   "source": [
    "# M에서 사망율이 높았던 건 3등급의 사람이 많아서였음 \n",
    "# Deck 컬럼이 생존/사망 크게 영향을 주고 있는 것은 아님 \n",
    "# 오히려 Pclass 영향이 크게 미치고 있음 "
   ]
  },
  {
   "cell_type": "code",
   "execution_count": 210,
   "id": "3c606ee6",
   "metadata": {
    "scrolled": true
   },
   "outputs": [
    {
     "data": {
      "image/png": "[encoded data removed]",
      "text/plain": [
       "<Figure size 600x300 with 1 Axes>"
      ]
     },
     "metadata": {},
     "output_type": "display_data"
    }
   ],
   "source": [
    "# Sex와 Survived 시각화\n",
    "plt.figure(figsize=(6,3))\n",
    "sns.countplot(data = train, x = \"Sex\", hue = \"Survived\")\n",
    "plt.show()"
   ]
  },
  {
   "cell_type": "code",
   "execution_count": 211,
   "id": "650a346b",
   "metadata": {},
   "outputs": [],
   "source": [
    "# 남성 상대적으로 사망율 높음\n",
    "# 여성 상대적으로 생존율 높음 \n",
    "# 생존/사망 판별 하는데 Sex 도움이 되겠군 "
   ]
  },
  {
   "cell_type": "code",
   "execution_count": 212,
   "id": "11cd74fc",
   "metadata": {},
   "outputs": [
    {
     "data": {
      "image/png": "[encoded data removed]",
      "text/plain": [
       "<Figure size 600x300 with 1 Axes>"
      ]
     },
     "metadata": {},
     "output_type": "display_data"
    }
   ],
   "source": [
    "# Embarked와 Survived 시각화\n",
    "plt.figure(figsize=(6,3))\n",
    "sns.countplot(data = train, x = \"Embarked\", hue = \"Survived\")\n",
    "plt.show()"
   ]
  },
  {
   "cell_type": "code",
   "execution_count": 213,
   "id": "f4ae1e77",
   "metadata": {},
   "outputs": [],
   "source": [
    "# 승선항 생존/사망 크게 영향을 주지 않았겠군"
   ]
  },
  {
   "cell_type": "code",
   "execution_count": 214,
   "id": "95ac4996",
   "metadata": {},
   "outputs": [
    {
     "data": {
      "image/png": "[encoded data removed]",
      "text/plain": [
       "<Figure size 1000x500 with 1 Axes>"
      ]
     },
     "metadata": {},
     "output_type": "display_data"
    }
   ],
   "source": [
    "# Age와 Survived 연관성 확인하기 \n",
    "# violin plot - 바이올린 모양 그래프 \n",
    "# 데이터의 분포를 확인할 때 사용하는 방법 \n",
    "plt.figure(figsize = (10,5))\n",
    "sns.violinplot(x='Sex', y='Age',hue = 'Survived', data=train, split = True)\n",
    "plt.title(\"Survival by Age\")\n",
    "plt.ylim(0)\n",
    "plt.show()"
   ]
  },
  {
   "cell_type": "code",
   "execution_count": 215,
   "id": "bd1bb69b",
   "metadata": {},
   "outputs": [],
   "source": [
    "# 20대~40대 남자 같은 경우에는 사망율이 높음 \n",
    "# 20~30대 여자 같은 경우에는 사망율이 높음 "
   ]
  },
  {
   "cell_type": "code",
   "execution_count": 216,
   "id": "e7aaed0a",
   "metadata": {
    "scrolled": true
   },
   "outputs": [
    {
     "data": {
      "image/png": "[encoded data removed]",
      "text/plain": [
       "<Figure size 1000x500 with 1 Axes>"
      ]
     },
     "metadata": {},
     "output_type": "display_data"
    }
   ],
   "source": [
    "# Sex x\n",
    "# Fare - y\n",
    "# hue - Survived \n",
    "plt.figure(figsize = (10,5))\n",
    "sns.violinplot(x='Sex', y='Fare',hue = 'Survived', data=train, split = True)\n",
    "plt.ylim(0)\n",
    "plt.show()"
   ]
  },
  {
   "cell_type": "code",
   "execution_count": 217,
   "id": "437a8187",
   "metadata": {},
   "outputs": [
    {
     "data": {
      "text/plain": [
       "'0.12.2'"
      ]
     },
     "execution_count": 217,
     "metadata": {},
     "output_type": "execute_result"
    }
   ],
   "source": [
    "sns.__version__"
   ]
  },
  {
   "cell_type": "code",
   "execution_count": 218,
   "id": "860fcf5c",
   "metadata": {},
   "outputs": [],
   "source": [
    "# 요금이 저렴한 사람은 상대적으로 많이 사망함"
   ]
  },
  {
   "cell_type": "markdown",
   "id": "2b24fb78",
   "metadata": {},
   "source": [
    "- Parch, sibSp - 부모자식, 형제배우자 \n",
    "  - 특성공학: 두개의 컬럼을 더해서 가족의 숫자라는 새로운 컬럼 생성\n",
    "  - train, 생성하면 test 동일하게 적용 "
   ]
  },
  {
   "cell_type": "code",
   "execution_count": 219,
   "id": "e85e2300",
   "metadata": {},
   "outputs": [],
   "source": [
    "# Parch + Sibsp + 1\n",
    "train['Family_size'] = train['Parch'] + train['SibSp'] + 1\n",
    "test['Family_size'] = train['Parch'] + train['SibSp'] + 1"
   ]
  },
  {
   "cell_type": "code",
   "execution_count": 220,
   "id": "fdcde90e",
   "metadata": {},
   "outputs": [
    {
     "name": "stdout",
     "output_type": "stream",
     "text": [
      "<class 'pandas.core.frame.DataFrame'>\n",
      "Int64Index: 891 entries, 1 to 891\n",
      "Data columns (total 12 columns):\n",
      " #   Column       Non-Null Count  Dtype  \n",
      "---  ------       --------------  -----  \n",
      " 0   Survived     891 non-null    int64  \n",
      " 1   Pclass       891 non-null    int64  \n",
      " 2   Name         891 non-null    object \n",
      " 3   Sex          891 non-null    object \n",
      " 4   Age          891 non-null    int64  \n",
      " 5   SibSp        891 non-null    int64  \n",
      " 6   Parch        891 non-null    int64  \n",
      " 7   Ticket       891 non-null    object \n",
      " 8   Fare         891 non-null    float64\n",
      " 9   Embarked     891 non-null    object \n",
      " 10  Deck         891 non-null    object \n",
      " 11  Family_size  891 non-null    int64  \n",
      "dtypes: float64(1), int64(6), object(5)\n",
      "memory usage: 122.8+ KB\n",
      "<class 'pandas.core.frame.DataFrame'>\n",
      "Int64Index: 418 entries, 892 to 1309\n",
      "Data columns (total 11 columns):\n",
      " #   Column       Non-Null Count  Dtype  \n",
      "---  ------       --------------  -----  \n",
      " 0   Pclass       418 non-null    int64  \n",
      " 1   Name         418 non-null    object \n",
      " 2   Sex          418 non-null    object \n",
      " 3   Age          418 non-null    int64  \n",
      " 4   SibSp        418 non-null    int64  \n",
      " 5   Parch        418 non-null    int64  \n",
      " 6   Ticket       418 non-null    object \n",
      " 7   Fare         418 non-null    float64\n",
      " 8   Embarked     418 non-null    object \n",
      " 9   Deck         418 non-null    object \n",
      " 10  Family_size  0 non-null      float64\n",
      "dtypes: float64(2), int64(4), object(5)\n",
      "memory usage: 39.2+ KB\n"
     ]
    }
   ],
   "source": [
    "train.info()\n",
    "test.info()"
   ]
  },
  {
   "cell_type": "code",
   "execution_count": 221,
   "id": "24568357",
   "metadata": {
    "scrolled": true
   },
   "outputs": [
    {
     "data": {
      "image/png": "[encoded data removed]",
      "text/plain": [
       "<Figure size 640x480 with 1 Axes>"
      ]
     },
     "metadata": {},
     "output_type": "display_data"
    }
   ],
   "source": [
    "# 시각화 \n",
    "# countplot\n",
    "sns.countplot(data = train, x = 'Family_size', hue = 'Survived')\n",
    "plt.show()"
   ]
  },
  {
   "cell_type": "code",
   "execution_count": 222,
   "id": "17fb13d1",
   "metadata": {},
   "outputs": [],
   "source": [
    "# 1 명 - 사망율 \n",
    "# 2 ~4명 - 생존율 높음 \n",
    "# 5 이상 - 사망율 \n",
    "# 범주를 줄일 것 -> binning(사소한 관찰오류를 줄일 수 있음)"
   ]
  },
  {
   "cell_type": "code",
   "execution_count": 223,
   "id": "9fc09f97",
   "metadata": {},
   "outputs": [],
   "source": [
    "# 가족사이즈가 1이면 Alone, 2~4명 Small, 5명 이상 Large \n",
    "# train , test 적용\n",
    "# pd.cut()\n",
    "bins = [0,1,4,11]\n",
    "labels = ['Alone', 'Small', 'Large']\n",
    "train['Family_group'] = pd.cut(train['Family_size'], bins = bins, labels = labels)\n",
    "test['Family_group'] = pd.cut(train['Family_size'], bins = bins, labels = labels)"
   ]
  },
  {
   "cell_type": "code",
   "execution_count": 224,
   "id": "696cac8b",
   "metadata": {
    "scrolled": true
   },
   "outputs": [
    {
     "data": {
      "image/png": "[encoded data removed]",
      "text/plain": [
       "<Figure size 640x480 with 1 Axes>"
      ]
     },
     "metadata": {},
     "output_type": "display_data"
    }
   ],
   "source": [
    "sns.countplot(data = train, x = 'Family_group', hue = 'Survived')\n",
    "plt.show()"
   ]
  },
  {
   "cell_type": "markdown",
   "id": "1359d110",
   "metadata": {},
   "source": [
    "- 불필요한 컬럼 삭제 \n",
    "  - Name, Ticket, Family_size"
   ]
  },
  {
   "cell_type": "code",
   "execution_count": 225,
   "id": "7e91618d",
   "metadata": {},
   "outputs": [],
   "source": [
    "# train \n",
    "train.drop(['Name', 'Ticket', 'Family_size'], axis = 1, inplace = True)"
   ]
  },
  {
   "cell_type": "code",
   "execution_count": 226,
   "id": "6f087f2e",
   "metadata": {},
   "outputs": [],
   "source": [
    "# test \n",
    "test.drop(['Name', 'Ticket', 'Family_size'], axis = 1, inplace = True)"
   ]
  },
  {
   "cell_type": "code",
   "execution_count": 227,
   "id": "e1dbe9cb",
   "metadata": {},
   "outputs": [
    {
     "name": "stdout",
     "output_type": "stream",
     "text": [
      "<class 'pandas.core.frame.DataFrame'>\n",
      "Int64Index: 418 entries, 892 to 1309\n",
      "Data columns (total 9 columns):\n",
      " #   Column        Non-Null Count  Dtype   \n",
      "---  ------        --------------  -----   \n",
      " 0   Pclass        418 non-null    int64   \n",
      " 1   Sex           418 non-null    object  \n",
      " 2   Age           418 non-null    int64   \n",
      " 3   SibSp         418 non-null    int64   \n",
      " 4   Parch         418 non-null    int64   \n",
      " 5   Fare          418 non-null    float64 \n",
      " 6   Embarked      418 non-null    object  \n",
      " 7   Deck          418 non-null    object  \n",
      " 8   Family_group  0 non-null      category\n",
      "dtypes: category(1), float64(1), int64(4), object(3)\n",
      "memory usage: 29.9+ KB\n"
     ]
    }
   ],
   "source": [
    "test.info()"
   ]
  },
  {
   "cell_type": "code",
   "execution_count": 228,
   "id": "51de1d35",
   "metadata": {},
   "outputs": [],
   "source": [
    "# 문제와 답 분리 \n",
    "# X_train = train.drop('Survived', axis = 1) # Survived 제외한 나머지 컬럼 문제데이터\n",
    "# X_train = train.iloc[:,1:] # Survived 제외한 나머지 컬럼 문제데이터\n",
    "X_train = train.loc[:,'Pclass':] # Survived 제외한 나머지 컬럼 문제데이터\n",
    "y_train = train['Survived']# Survived\n",
    "X_test = test "
   ]
  },
  {
   "cell_type": "code",
   "execution_count": 229,
   "id": "eefe22e8",
   "metadata": {},
   "outputs": [
    {
     "name": "stdout",
     "output_type": "stream",
     "text": [
      "훈련문제: (891, 9)\n",
      "훈련답: (891,)\n",
      "테스트문제: (418, 9)\n"
     ]
    }
   ],
   "source": [
    "# 크기확인 \n",
    "print('훈련문제:', X_train.shape)\n",
    "print('훈련답:', y_train.shape)\n",
    "print('테스트문제:', X_test.shape)"
   ]
  },
  {
   "cell_type": "code",
   "execution_count": 230,
   "id": "9f69e027",
   "metadata": {},
   "outputs": [
    {
     "name": "stdout",
     "output_type": "stream",
     "text": [
      "<class 'pandas.core.frame.DataFrame'>\n",
      "Int64Index: 891 entries, 1 to 891\n",
      "Data columns (total 9 columns):\n",
      " #   Column        Non-Null Count  Dtype   \n",
      "---  ------        --------------  -----   \n",
      " 0   Pclass        891 non-null    int64   \n",
      " 1   Sex           891 non-null    object  \n",
      " 2   Age           891 non-null    int64   \n",
      " 3   SibSp         891 non-null    int64   \n",
      " 4   Parch         891 non-null    int64   \n",
      " 5   Fare          891 non-null    float64 \n",
      " 6   Embarked      891 non-null    object  \n",
      " 7   Deck          891 non-null    object  \n",
      " 8   Family_group  891 non-null    category\n",
      "dtypes: category(1), float64(1), int64(4), object(3)\n",
      "memory usage: 95.9+ KB\n"
     ]
    }
   ],
   "source": [
    "X_train.info()"
   ]
  },
  {
   "cell_type": "code",
   "execution_count": 231,
   "id": "932ba56c",
   "metadata": {},
   "outputs": [],
   "source": [
    "# 인코딩이 필요한 컬럼 \n",
    "# cat_choice = ['Sex', 'Embarked', 'Deck', 'Family_group']\n",
    "cat_filter = (X_train.dtypes != 'int64') & (X_train.dtypes != 'float64')\n",
    "cat_choice = X_train.columns[cat_filter]"
   ]
  },
  {
   "cell_type": "code",
   "execution_count": 232,
   "id": "6093f196",
   "metadata": {
    "scrolled": true
   },
   "outputs": [],
   "source": [
    "# 원핫인코딩 \n",
    "# pandas -> pd.get_dummies(대상)\n",
    "X_train_ca_oh = pd.get_dummies(X_train[cat_choice])\n",
    "X_test_ca_oh = pd.get_dummies(X_test[cat_choice])\n",
    "\n",
    "# X_train 병합하기 \n",
    "# pd.concat()\n",
    "X_train = pd.concat([X_train, X_train_ca_oh], axis = 1)\n",
    "X_test = pd.concat([X_test, X_test_ca_oh], axis = 1)\n",
    "\n",
    "# 원핫인코딩 하기 전의 범주형 컬럼은 삭제 \n",
    "X_train.drop(cat_choice, axis = 1, inplace = True)\n",
    "X_test.drop(cat_choice, axis = 1, inplace = True)"
   ]
  },
  {
   "cell_type": "code",
   "execution_count": 233,
   "id": "b022a720",
   "metadata": {},
   "outputs": [
    {
     "data": {
      "text/plain": [
       "((891, 22), (418, 21))"
      ]
     },
     "execution_count": 233,
     "metadata": {},
     "output_type": "execute_result"
    }
   ],
   "source": [
    "# 크기확인 \n",
    "X_train.shape, X_test.shape"
   ]
  },
  {
   "cell_type": "code",
   "execution_count": 234,
   "id": "b4fd1483",
   "metadata": {
    "scrolled": true
   },
   "outputs": [
    {
     "data": {
      "text/plain": [
       "Index(['Pclass', 'Age', 'SibSp', 'Parch', 'Fare', 'Sex_female', 'Sex_male',\n",
       "       'Embarked_C', 'Embarked_Q', 'Embarked_S', 'Deck_A', 'Deck_B', 'Deck_C',\n",
       "       'Deck_D', 'Deck_E', 'Deck_F', 'Deck_G', 'Deck_M', 'Deck_T',\n",
       "       'Family_group_Alone', 'Family_group_Small', 'Family_group_Large'],\n",
       "      dtype='object')"
      ]
     },
     "execution_count": 234,
     "metadata": {},
     "output_type": "execute_result"
    }
   ],
   "source": [
    "X_train.columns"
   ]
  },
  {
   "cell_type": "code",
   "execution_count": 235,
   "id": "26b9ed30",
   "metadata": {},
   "outputs": [
    {
     "data": {
      "text/plain": [
       "Index(['Pclass', 'Age', 'SibSp', 'Parch', 'Fare', 'Sex_female', 'Sex_male',\n",
       "       'Embarked_C', 'Embarked_Q', 'Embarked_S', 'Deck_A', 'Deck_B', 'Deck_C',\n",
       "       'Deck_D', 'Deck_E', 'Deck_F', 'Deck_G', 'Deck_M', 'Family_group_Alone',\n",
       "       'Family_group_Small', 'Family_group_Large', 'Deck_T'],\n",
       "      dtype='object')"
      ]
     },
     "execution_count": 235,
     "metadata": {},
     "output_type": "execute_result"
    }
   ],
   "source": [
    "# Dect_T -> test\n",
    "# T -> 0(False)\n",
    "X_test['Deck_T'] = 0\n",
    "X_test.columns"
   ]
  },
  {
   "cell_type": "code",
   "execution_count": 236,
   "id": "6c245f3a",
   "metadata": {},
   "outputs": [
    {
     "data": {
      "text/plain": [
       "Index(['Pclass', 'Age', 'SibSp', 'Parch', 'Fare', 'Sex_female', 'Sex_male',\n",
       "       'Embarked_C', 'Embarked_Q', 'Embarked_S', 'Deck_A', 'Deck_B', 'Deck_C',\n",
       "       'Deck_D', 'Deck_E', 'Deck_F', 'Deck_G', 'Deck_M', 'Deck_T',\n",
       "       'Family_group_Alone', 'Family_group_Small', 'Family_group_Large'],\n",
       "      dtype='object')"
      ]
     },
     "execution_count": 236,
     "metadata": {},
     "output_type": "execute_result"
    }
   ],
   "source": [
    "# X_train 컬럼의 순서를 \n",
    "# X_test 적용 \n",
    "X_test = X_test[X_train.columns]\n",
    "X_train.columns"
   ]
  },
  {
   "cell_type": "code",
   "execution_count": 237,
   "id": "48751696",
   "metadata": {},
   "outputs": [
    {
     "name": "stdout",
     "output_type": "stream",
     "text": [
      "<class 'pandas.core.frame.DataFrame'>\n",
      "Int64Index: 418 entries, 892 to 1309\n",
      "Data columns (total 22 columns):\n",
      " #   Column              Non-Null Count  Dtype  \n",
      "---  ------              --------------  -----  \n",
      " 0   Pclass              418 non-null    int64  \n",
      " 1   Age                 418 non-null    int64  \n",
      " 2   SibSp               418 non-null    int64  \n",
      " 3   Parch               418 non-null    int64  \n",
      " 4   Fare                418 non-null    float64\n",
      " 5   Sex_female          418 non-null    uint8  \n",
      " 6   Sex_male            418 non-null    uint8  \n",
      " 7   Embarked_C          418 non-null    uint8  \n",
      " 8   Embarked_Q          418 non-null    uint8  \n",
      " 9   Embarked_S          418 non-null    uint8  \n",
      " 10  Deck_A              418 non-null    uint8  \n",
      " 11  Deck_B              418 non-null    uint8  \n",
      " 12  Deck_C              418 non-null    uint8  \n",
      " 13  Deck_D              418 non-null    uint8  \n",
      " 14  Deck_E              418 non-null    uint8  \n",
      " 15  Deck_F              418 non-null    uint8  \n",
      " 16  Deck_G              418 non-null    uint8  \n",
      " 17  Deck_M              418 non-null    uint8  \n",
      " 18  Deck_T              418 non-null    int64  \n",
      " 19  Family_group_Alone  418 non-null    uint8  \n",
      " 20  Family_group_Small  418 non-null    uint8  \n",
      " 21  Family_group_Large  418 non-null    uint8  \n",
      "dtypes: float64(1), int64(5), uint8(16)\n",
      "memory usage: 29.4 KB\n"
     ]
    }
   ],
   "source": [
    "X_test.info()"
   ]
  },
  {
   "cell_type": "markdown",
   "id": "9942d97d",
   "metadata": {},
   "source": [
    "### 모델 선택 및 학습"
   ]
  },
  {
   "cell_type": "code",
   "execution_count": 238,
   "id": "2b9b2e18",
   "metadata": {
    "scrolled": true
   },
   "outputs": [],
   "source": [
    "# tree 임포트 \n",
    "from sklearn.tree import DecisionTreeClassifier # 트리 분류 모델\n",
    "# 모델 객체 생성 \n",
    "tree_model = DecisionTreeClassifier()\n",
    "# 모델 학습 \n",
    "tree_model.fit(X_train, y_train)\n",
    "# 모델 예측\n",
    "pre = tree_model.predict(X_test)\n",
    "#gender_submission 파일 불러오기 - Survived 컬럼 예측값으로 변경 \n",
    "# 예측값을 담은 df를 csv 파일로 저장 \n",
    "#저장할데이터.to_csv('경로 및 파일명', index = False)\n",
    "# pre\n",
    "result = pd.read_csv('./data/titanic/gender_submission.csv')\n",
    "result['Survived'] = pre\n",
    "result.to_csv('./data/submission01_sjy.csv', index = False)"
   ]
  },
  {
   "cell_type": "code",
   "execution_count": 239,
   "id": "7115a75d",
   "metadata": {},
   "outputs": [
    {
     "name": "stdout",
     "output_type": "stream",
     "text": [
      "1모델:  [0.7877095  0.78089888 0.83707865 0.76404494 0.81460674] \n",
      " 0.79686774213797\n",
      "2모델:  [0.82122905 0.78089888 0.8258427  0.76966292 0.86516854] \n",
      " 0.812560416797439\n"
     ]
    }
   ],
   "source": [
    "# 과대적합 키워드를 설정하여 모델 학습 후 예측\n",
    "# kaggle 재제출\n",
    "# skan rlvdl max_depth =5\n",
    "\n",
    "tree_model2 = DecisionTreeClassifier(max_depth =5)\n",
    "# 해당 모델의 성능이 얼마나 되는지 확인하는 방법\n",
    "# 교차검증\n",
    "from sklearn.model_selection import cross_val_score\n",
    "cv_result1 = cross_val_score(tree_model, X_train, y_train, cv =5) # tree_model\n",
    "cv_result2 = cross_val_score(tree_model2, X_train, y_train, cv =5) # tree_model2\n",
    "print('1모델: ', cv_result1, '\\n', cv_result1.mean())\n",
    "print('2모델: ', cv_result2, '\\n', cv_result2.mean())"
   ]
  },
  {
   "cell_type": "code",
   "execution_count": 240,
   "id": "24f0ee11",
   "metadata": {},
   "outputs": [],
   "source": [
    "# tree_model2 학습, 예측\n",
    "tree_model2.fit(X_train, y_train)\n",
    "pre2 = tree_model2.predict(X_test)\n",
    "pre\n",
    "# kaggle 업로드 해보기 \n",
    "result2 = pd.read_csv('./data/titanic/gender_submission.csv')\n",
    "result2['Survived'] = pre2\n",
    "result2.to_csv('./data/submission02_sjy.csv', index = False)"
   ]
  },
  {
   "cell_type": "markdown",
   "id": "70051457",
   "metadata": {},
   "source": [
    "- 특성 중요도 \n",
    "  - 모델이 선택한 중요한 특성 확인하기 \n",
    " "
   ]
  },
  {
   "cell_type": "code",
   "execution_count": 243,
   "id": "1b9448f8",
   "metadata": {},
   "outputs": [
    {
     "data": {
      "image/png": "[encoded data removed]",
      "text/plain": [
       "<Figure size 640x480 with 1 Axes>"
      ]
     },
     "metadata": {},
     "output_type": "display_data"
    }
   ],
   "source": [
    "# tree_model2 특성 중요도 값 확인해보기\n",
    "fi = tree_model2.feature_importances_\n",
    "fi\n",
    "# Series\n",
    "fi_s = pd.Series(fi, index = X_train.columns)\n",
    "fi_s.sort_values(ascending = False).head()\n",
    "fi_s.sort_values(ascending = False).plot.barh()\n",
    "plt.show()"
   ]
  }
 ],
 "metadata": {
  "kernelspec": {
   "display_name": "Python 3 (ipykernel)",
   "language": "python",
   "name": "python3"
  },
  "language_info": {
   "codemirror_mode": {
    "name": "ipython",
    "version": 3
   },
   "file_extension": ".py",
   "mimetype": "text/x-python",
   "name": "python",
   "nbconvert_exporter": "python",
   "pygments_lexer": "ipython3",
   "version": "3.11.3"
  }
 },
 "nbformat": 4,
 "nbformat_minor": 5
}
